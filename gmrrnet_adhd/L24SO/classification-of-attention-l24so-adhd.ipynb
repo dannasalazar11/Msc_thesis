{
 "cells": [
  {
   "cell_type": "markdown",
   "id": "2cbc347e",
   "metadata": {
    "papermill": {
     "duration": 0.002638,
     "end_time": "2025-04-30T16:30:13.428800",
     "exception": false,
     "start_time": "2025-04-30T16:30:13.426162",
     "status": "completed"
    },
    "tags": []
   },
   "source": [
    "# Clonamos el repositorio con los modelos y herramientas"
   ]
  },
  {
   "cell_type": "code",
   "execution_count": 1,
   "id": "884274fe",
   "metadata": {
    "execution": {
     "iopub.execute_input": "2025-04-30T16:30:13.433954Z",
     "iopub.status.busy": "2025-04-30T16:30:13.433735Z",
     "iopub.status.idle": "2025-04-30T16:30:16.571128Z",
     "shell.execute_reply": "2025-04-30T16:30:16.570368Z"
    },
    "papermill": {
     "duration": 3.141601,
     "end_time": "2025-04-30T16:30:16.572708",
     "exception": false,
     "start_time": "2025-04-30T16:30:13.431107",
     "status": "completed"
    },
    "tags": []
   },
   "outputs": [
    {
     "name": "stdout",
     "output_type": "stream",
     "text": [
      "Cloning into 'Msc_thesis'...\r\n",
      "remote: Enumerating objects: 283, done.\u001b[K\r\n",
      "remote: Counting objects: 100% (111/111), done.\u001b[K\r\n",
      "remote: Compressing objects: 100% (87/87), done.\u001b[K\r\n",
      "remote: Total 283 (delta 72), reused 47 (delta 24), pack-reused 172 (from 1)\u001b[K\r\n",
      "Receiving objects: 100% (283/283), 49.92 MiB | 38.72 MiB/s, done.\r\n",
      "Resolving deltas: 100% (163/163), done.\r\n"
     ]
    }
   ],
   "source": [
    "!git clone https://github.com/dannasalazar11/Msc_thesis.git"
   ]
  },
  {
   "cell_type": "code",
   "execution_count": 2,
   "id": "25618fb4",
   "metadata": {
    "execution": {
     "iopub.execute_input": "2025-04-30T16:30:16.580120Z",
     "iopub.status.busy": "2025-04-30T16:30:16.579631Z",
     "iopub.status.idle": "2025-04-30T16:30:42.048273Z",
     "shell.execute_reply": "2025-04-30T16:30:42.047502Z"
    },
    "papermill": {
     "duration": 25.47389,
     "end_time": "2025-04-30T16:30:42.049785",
     "exception": false,
     "start_time": "2025-04-30T16:30:16.575895",
     "status": "completed"
    },
    "tags": []
   },
   "outputs": [
    {
     "name": "stderr",
     "output_type": "stream",
     "text": [
      "2025-04-30 16:30:23.229135: E external/local_xla/xla/stream_executor/cuda/cuda_fft.cc:477] Unable to register cuFFT factory: Attempting to register factory for plugin cuFFT when one has already been registered\n",
      "WARNING: All log messages before absl::InitializeLog() is called are written to STDERR\n",
      "E0000 00:00:1746030623.733887      19 cuda_dnn.cc:8310] Unable to register cuDNN factory: Attempting to register factory for plugin cuDNN when one has already been registered\n",
      "E0000 00:00:1746030623.865435      19 cuda_blas.cc:1418] Unable to register cuBLAS factory: Attempting to register factory for plugin cuBLAS when one has already been registered\n"
     ]
    }
   ],
   "source": [
    "import sys\n",
    "sys.path.append('/kaggle/working/Msc_thesis')\n",
    "\n",
    "from gmrrnet_adhd.utils import get_segmented_data, train_L24O_cv\n",
    "from tensorflow.keras.mixed_precision import set_global_policy\n",
    "set_global_policy('mixed_float16')\n",
    "\n",
    "import tensorflow as tf\n",
    "import numpy as np\n",
    "import random\n",
    "import os\n",
    "\n",
    "# Establecer semilla\n",
    "seed = 42\n",
    "\n",
    "# Semillas para módulos principales\n",
    "np.random.seed(seed)\n",
    "random.seed(seed)\n",
    "tf.random.set_seed(seed)"
   ]
  },
  {
   "cell_type": "markdown",
   "id": "19502fcc",
   "metadata": {
    "papermill": {
     "duration": 0.004096,
     "end_time": "2025-04-30T16:30:42.058535",
     "exception": false,
     "start_time": "2025-04-30T16:30:42.054439",
     "status": "completed"
    },
    "tags": []
   },
   "source": [
    "# Importar base de datos segmentada (Segmentos de 4 seg con translape del 50%, es decir, de 2 seg)"
   ]
  },
  {
   "cell_type": "code",
   "execution_count": 3,
   "id": "c11ef2fb",
   "metadata": {
    "execution": {
     "iopub.execute_input": "2025-04-30T16:30:42.067993Z",
     "iopub.status.busy": "2025-04-30T16:30:42.067496Z",
     "iopub.status.idle": "2025-04-30T16:30:44.871343Z",
     "shell.execute_reply": "2025-04-30T16:30:44.870615Z"
    },
    "papermill": {
     "duration": 2.809817,
     "end_time": "2025-04-30T16:30:44.872614",
     "exception": false,
     "start_time": "2025-04-30T16:30:42.062797",
     "status": "completed"
    },
    "tags": []
   },
   "outputs": [
    {
     "data": {
      "text/plain": [
       "((8213, 19, 512), (8213, 2), 8213)"
      ]
     },
     "execution_count": 3,
     "metadata": {},
     "output_type": "execute_result"
    }
   ],
   "source": [
    "X, y, sbjs = get_segmented_data()\n",
    "X.shape, y.shape, len(sbjs)"
   ]
  },
  {
   "cell_type": "markdown",
   "id": "125ef870",
   "metadata": {
    "papermill": {
     "duration": 0.002603,
     "end_time": "2025-04-30T16:30:44.879572",
     "exception": false,
     "start_time": "2025-04-30T16:30:44.876969",
     "status": "completed"
    },
    "tags": []
   },
   "source": [
    "# Importamos el modelo y definimos los hiperparámetros"
   ]
  },
  {
   "cell_type": "code",
   "execution_count": 4,
   "id": "3164036c",
   "metadata": {
    "execution": {
     "iopub.execute_input": "2025-04-30T16:30:44.886184Z",
     "iopub.status.busy": "2025-04-30T16:30:44.885854Z",
     "iopub.status.idle": "2025-04-30T16:30:49.687867Z",
     "shell.execute_reply": "2025-04-30T16:30:49.687150Z"
    },
    "papermill": {
     "duration": 4.806887,
     "end_time": "2025-04-30T16:30:49.689062",
     "exception": false,
     "start_time": "2025-04-30T16:30:44.882175",
     "status": "completed"
    },
    "tags": []
   },
   "outputs": [
    {
     "name": "stderr",
     "output_type": "stream",
     "text": [
      "I0000 00:00:1746030647.586835      19 gpu_device.cc:2022] Created device /job:localhost/replica:0/task:0/device:GPU:0 with 13942 MB memory:  -> device: 0, name: Tesla T4, pci bus id: 0000:00:04.0, compute capability: 7.5\n",
      "I0000 00:00:1746030647.587496      19 gpu_device.cc:2022] Created device /job:localhost/replica:0/task:0/device:GPU:1 with 13942 MB memory:  -> device: 1, name: Tesla T4, pci bus id: 0000:00:05.0, compute capability: 7.5\n"
     ]
    },
    {
     "data": {
      "text/html": [
       "<pre style=\"white-space:pre;overflow-x:auto;line-height:normal;font-family:Menlo,'DejaVu Sans Mono',consolas,'Courier New',monospace\"><span style=\"font-weight: bold\">Model: \"functional_6\"</span>\n",
       "</pre>\n"
      ],
      "text/plain": [
       "\u001b[1mModel: \"functional_6\"\u001b[0m\n"
      ]
     },
     "metadata": {},
     "output_type": "display_data"
    },
    {
     "data": {
      "text/html": [
       "<pre style=\"white-space:pre;overflow-x:auto;line-height:normal;font-family:Menlo,'DejaVu Sans Mono',consolas,'Courier New',monospace\">┏━━━━━━━━━━━━━━━━━━━━━━━━━━━━━━━━━━━━━━┳━━━━━━━━━━━━━━━━━━━━━━━━━━━━━┳━━━━━━━━━━━━━━━━━┓\n",
       "┃<span style=\"font-weight: bold\"> Layer (type)                         </span>┃<span style=\"font-weight: bold\"> Output Shape                </span>┃<span style=\"font-weight: bold\">         Param # </span>┃\n",
       "┡━━━━━━━━━━━━━━━━━━━━━━━━━━━━━━━━━━━━━━╇━━━━━━━━━━━━━━━━━━━━━━━━━━━━━╇━━━━━━━━━━━━━━━━━┩\n",
       "│ input_layer (<span style=\"color: #0087ff; text-decoration-color: #0087ff\">InputLayer</span>)             │ (<span style=\"color: #00d7ff; text-decoration-color: #00d7ff\">None</span>, <span style=\"color: #00af00; text-decoration-color: #00af00\">512</span>, <span style=\"color: #00af00; text-decoration-color: #00af00\">19</span>)             │               <span style=\"color: #00af00; text-decoration-color: #00af00\">0</span> │\n",
       "├──────────────────────────────────────┼─────────────────────────────┼─────────────────┤\n",
       "│ cast (<span style=\"color: #0087ff; text-decoration-color: #0087ff\">Cast</span>)                          │ (<span style=\"color: #00d7ff; text-decoration-color: #00d7ff\">None</span>, <span style=\"color: #00af00; text-decoration-color: #00af00\">512</span>, <span style=\"color: #00af00; text-decoration-color: #00af00\">19</span>)             │               <span style=\"color: #00af00; text-decoration-color: #00af00\">0</span> │\n",
       "├──────────────────────────────────────┼─────────────────────────────┼─────────────────┤\n",
       "│ positional_embedding                 │ (<span style=\"color: #00d7ff; text-decoration-color: #00d7ff\">None</span>, <span style=\"color: #00af00; text-decoration-color: #00af00\">512</span>, <span style=\"color: #00af00; text-decoration-color: #00af00\">19</span>)             │           <span style=\"color: #00af00; text-decoration-color: #00af00\">9,728</span> │\n",
       "│ (<span style=\"color: #0087ff; text-decoration-color: #0087ff\">PositionalEmbedding</span>)                │                             │                 │\n",
       "├──────────────────────────────────────┼─────────────────────────────┼─────────────────┤\n",
       "│ functional (<span style=\"color: #0087ff; text-decoration-color: #0087ff\">Functional</span>)              │ (<span style=\"color: #00d7ff; text-decoration-color: #00d7ff\">None</span>, <span style=\"color: #00af00; text-decoration-color: #00af00\">512</span>, <span style=\"color: #00af00; text-decoration-color: #00af00\">19</span>)             │          <span style=\"color: #00af00; text-decoration-color: #00af00\">14,112</span> │\n",
       "├──────────────────────────────────────┼─────────────────────────────┼─────────────────┤\n",
       "│ functional_1 (<span style=\"color: #0087ff; text-decoration-color: #0087ff\">Functional</span>)            │ (<span style=\"color: #00d7ff; text-decoration-color: #00d7ff\">None</span>, <span style=\"color: #00af00; text-decoration-color: #00af00\">512</span>, <span style=\"color: #00af00; text-decoration-color: #00af00\">19</span>)             │          <span style=\"color: #00af00; text-decoration-color: #00af00\">14,112</span> │\n",
       "├──────────────────────────────────────┼─────────────────────────────┼─────────────────┤\n",
       "│ functional_2 (<span style=\"color: #0087ff; text-decoration-color: #0087ff\">Functional</span>)            │ (<span style=\"color: #00d7ff; text-decoration-color: #00d7ff\">None</span>, <span style=\"color: #00af00; text-decoration-color: #00af00\">512</span>, <span style=\"color: #00af00; text-decoration-color: #00af00\">19</span>)             │          <span style=\"color: #00af00; text-decoration-color: #00af00\">14,112</span> │\n",
       "├──────────────────────────────────────┼─────────────────────────────┼─────────────────┤\n",
       "│ functional_3 (<span style=\"color: #0087ff; text-decoration-color: #0087ff\">Functional</span>)            │ (<span style=\"color: #00d7ff; text-decoration-color: #00d7ff\">None</span>, <span style=\"color: #00af00; text-decoration-color: #00af00\">512</span>, <span style=\"color: #00af00; text-decoration-color: #00af00\">19</span>)             │          <span style=\"color: #00af00; text-decoration-color: #00af00\">14,112</span> │\n",
       "├──────────────────────────────────────┼─────────────────────────────┼─────────────────┤\n",
       "│ functional_4 (<span style=\"color: #0087ff; text-decoration-color: #0087ff\">Functional</span>)            │ (<span style=\"color: #00d7ff; text-decoration-color: #00d7ff\">None</span>, <span style=\"color: #00af00; text-decoration-color: #00af00\">512</span>, <span style=\"color: #00af00; text-decoration-color: #00af00\">19</span>)             │          <span style=\"color: #00af00; text-decoration-color: #00af00\">14,112</span> │\n",
       "├──────────────────────────────────────┼─────────────────────────────┼─────────────────┤\n",
       "│ functional_5 (<span style=\"color: #0087ff; text-decoration-color: #0087ff\">Functional</span>)            │ (<span style=\"color: #00d7ff; text-decoration-color: #00d7ff\">None</span>, <span style=\"color: #00af00; text-decoration-color: #00af00\">512</span>, <span style=\"color: #00af00; text-decoration-color: #00af00\">19</span>)             │          <span style=\"color: #00af00; text-decoration-color: #00af00\">14,112</span> │\n",
       "├──────────────────────────────────────┼─────────────────────────────┼─────────────────┤\n",
       "│ global_max_pooling1d                 │ (<span style=\"color: #00d7ff; text-decoration-color: #00d7ff\">None</span>, <span style=\"color: #00af00; text-decoration-color: #00af00\">19</span>)                  │               <span style=\"color: #00af00; text-decoration-color: #00af00\">0</span> │\n",
       "│ (<span style=\"color: #0087ff; text-decoration-color: #0087ff\">GlobalMaxPooling1D</span>)                 │                             │                 │\n",
       "├──────────────────────────────────────┼─────────────────────────────┼─────────────────┤\n",
       "│ dropout_18 (<span style=\"color: #0087ff; text-decoration-color: #0087ff\">Dropout</span>)                 │ (<span style=\"color: #00d7ff; text-decoration-color: #00d7ff\">None</span>, <span style=\"color: #00af00; text-decoration-color: #00af00\">19</span>)                  │               <span style=\"color: #00af00; text-decoration-color: #00af00\">0</span> │\n",
       "├──────────────────────────────────────┼─────────────────────────────┼─────────────────┤\n",
       "│ dense_12 (<span style=\"color: #0087ff; text-decoration-color: #0087ff\">Dense</span>)                     │ (<span style=\"color: #00d7ff; text-decoration-color: #00d7ff\">None</span>, <span style=\"color: #00af00; text-decoration-color: #00af00\">64</span>)                  │           <span style=\"color: #00af00; text-decoration-color: #00af00\">1,280</span> │\n",
       "├──────────────────────────────────────┼─────────────────────────────┼─────────────────┤\n",
       "│ dropout_19 (<span style=\"color: #0087ff; text-decoration-color: #0087ff\">Dropout</span>)                 │ (<span style=\"color: #00d7ff; text-decoration-color: #00d7ff\">None</span>, <span style=\"color: #00af00; text-decoration-color: #00af00\">64</span>)                  │               <span style=\"color: #00af00; text-decoration-color: #00af00\">0</span> │\n",
       "├──────────────────────────────────────┼─────────────────────────────┼─────────────────┤\n",
       "│ dense_13 (<span style=\"color: #0087ff; text-decoration-color: #0087ff\">Dense</span>)                     │ (<span style=\"color: #00d7ff; text-decoration-color: #00d7ff\">None</span>, <span style=\"color: #00af00; text-decoration-color: #00af00\">2</span>)                   │             <span style=\"color: #00af00; text-decoration-color: #00af00\">130</span> │\n",
       "└──────────────────────────────────────┴─────────────────────────────┴─────────────────┘\n",
       "</pre>\n"
      ],
      "text/plain": [
       "┏━━━━━━━━━━━━━━━━━━━━━━━━━━━━━━━━━━━━━━┳━━━━━━━━━━━━━━━━━━━━━━━━━━━━━┳━━━━━━━━━━━━━━━━━┓\n",
       "┃\u001b[1m \u001b[0m\u001b[1mLayer (type)                        \u001b[0m\u001b[1m \u001b[0m┃\u001b[1m \u001b[0m\u001b[1mOutput Shape               \u001b[0m\u001b[1m \u001b[0m┃\u001b[1m \u001b[0m\u001b[1m        Param #\u001b[0m\u001b[1m \u001b[0m┃\n",
       "┡━━━━━━━━━━━━━━━━━━━━━━━━━━━━━━━━━━━━━━╇━━━━━━━━━━━━━━━━━━━━━━━━━━━━━╇━━━━━━━━━━━━━━━━━┩\n",
       "│ input_layer (\u001b[38;5;33mInputLayer\u001b[0m)             │ (\u001b[38;5;45mNone\u001b[0m, \u001b[38;5;34m512\u001b[0m, \u001b[38;5;34m19\u001b[0m)             │               \u001b[38;5;34m0\u001b[0m │\n",
       "├──────────────────────────────────────┼─────────────────────────────┼─────────────────┤\n",
       "│ cast (\u001b[38;5;33mCast\u001b[0m)                          │ (\u001b[38;5;45mNone\u001b[0m, \u001b[38;5;34m512\u001b[0m, \u001b[38;5;34m19\u001b[0m)             │               \u001b[38;5;34m0\u001b[0m │\n",
       "├──────────────────────────────────────┼─────────────────────────────┼─────────────────┤\n",
       "│ positional_embedding                 │ (\u001b[38;5;45mNone\u001b[0m, \u001b[38;5;34m512\u001b[0m, \u001b[38;5;34m19\u001b[0m)             │           \u001b[38;5;34m9,728\u001b[0m │\n",
       "│ (\u001b[38;5;33mPositionalEmbedding\u001b[0m)                │                             │                 │\n",
       "├──────────────────────────────────────┼─────────────────────────────┼─────────────────┤\n",
       "│ functional (\u001b[38;5;33mFunctional\u001b[0m)              │ (\u001b[38;5;45mNone\u001b[0m, \u001b[38;5;34m512\u001b[0m, \u001b[38;5;34m19\u001b[0m)             │          \u001b[38;5;34m14,112\u001b[0m │\n",
       "├──────────────────────────────────────┼─────────────────────────────┼─────────────────┤\n",
       "│ functional_1 (\u001b[38;5;33mFunctional\u001b[0m)            │ (\u001b[38;5;45mNone\u001b[0m, \u001b[38;5;34m512\u001b[0m, \u001b[38;5;34m19\u001b[0m)             │          \u001b[38;5;34m14,112\u001b[0m │\n",
       "├──────────────────────────────────────┼─────────────────────────────┼─────────────────┤\n",
       "│ functional_2 (\u001b[38;5;33mFunctional\u001b[0m)            │ (\u001b[38;5;45mNone\u001b[0m, \u001b[38;5;34m512\u001b[0m, \u001b[38;5;34m19\u001b[0m)             │          \u001b[38;5;34m14,112\u001b[0m │\n",
       "├──────────────────────────────────────┼─────────────────────────────┼─────────────────┤\n",
       "│ functional_3 (\u001b[38;5;33mFunctional\u001b[0m)            │ (\u001b[38;5;45mNone\u001b[0m, \u001b[38;5;34m512\u001b[0m, \u001b[38;5;34m19\u001b[0m)             │          \u001b[38;5;34m14,112\u001b[0m │\n",
       "├──────────────────────────────────────┼─────────────────────────────┼─────────────────┤\n",
       "│ functional_4 (\u001b[38;5;33mFunctional\u001b[0m)            │ (\u001b[38;5;45mNone\u001b[0m, \u001b[38;5;34m512\u001b[0m, \u001b[38;5;34m19\u001b[0m)             │          \u001b[38;5;34m14,112\u001b[0m │\n",
       "├──────────────────────────────────────┼─────────────────────────────┼─────────────────┤\n",
       "│ functional_5 (\u001b[38;5;33mFunctional\u001b[0m)            │ (\u001b[38;5;45mNone\u001b[0m, \u001b[38;5;34m512\u001b[0m, \u001b[38;5;34m19\u001b[0m)             │          \u001b[38;5;34m14,112\u001b[0m │\n",
       "├──────────────────────────────────────┼─────────────────────────────┼─────────────────┤\n",
       "│ global_max_pooling1d                 │ (\u001b[38;5;45mNone\u001b[0m, \u001b[38;5;34m19\u001b[0m)                  │               \u001b[38;5;34m0\u001b[0m │\n",
       "│ (\u001b[38;5;33mGlobalMaxPooling1D\u001b[0m)                 │                             │                 │\n",
       "├──────────────────────────────────────┼─────────────────────────────┼─────────────────┤\n",
       "│ dropout_18 (\u001b[38;5;33mDropout\u001b[0m)                 │ (\u001b[38;5;45mNone\u001b[0m, \u001b[38;5;34m19\u001b[0m)                  │               \u001b[38;5;34m0\u001b[0m │\n",
       "├──────────────────────────────────────┼─────────────────────────────┼─────────────────┤\n",
       "│ dense_12 (\u001b[38;5;33mDense\u001b[0m)                     │ (\u001b[38;5;45mNone\u001b[0m, \u001b[38;5;34m64\u001b[0m)                  │           \u001b[38;5;34m1,280\u001b[0m │\n",
       "├──────────────────────────────────────┼─────────────────────────────┼─────────────────┤\n",
       "│ dropout_19 (\u001b[38;5;33mDropout\u001b[0m)                 │ (\u001b[38;5;45mNone\u001b[0m, \u001b[38;5;34m64\u001b[0m)                  │               \u001b[38;5;34m0\u001b[0m │\n",
       "├──────────────────────────────────────┼─────────────────────────────┼─────────────────┤\n",
       "│ dense_13 (\u001b[38;5;33mDense\u001b[0m)                     │ (\u001b[38;5;45mNone\u001b[0m, \u001b[38;5;34m2\u001b[0m)                   │             \u001b[38;5;34m130\u001b[0m │\n",
       "└──────────────────────────────────────┴─────────────────────────────┴─────────────────┘\n"
      ]
     },
     "metadata": {},
     "output_type": "display_data"
    },
    {
     "data": {
      "text/html": [
       "<pre style=\"white-space:pre;overflow-x:auto;line-height:normal;font-family:Menlo,'DejaVu Sans Mono',consolas,'Courier New',monospace\"><span style=\"font-weight: bold\"> Total params: </span><span style=\"color: #00af00; text-decoration-color: #00af00\">95,810</span> (374.26 KB)\n",
       "</pre>\n"
      ],
      "text/plain": [
       "\u001b[1m Total params: \u001b[0m\u001b[38;5;34m95,810\u001b[0m (374.26 KB)\n"
      ]
     },
     "metadata": {},
     "output_type": "display_data"
    },
    {
     "data": {
      "text/html": [
       "<pre style=\"white-space:pre;overflow-x:auto;line-height:normal;font-family:Menlo,'DejaVu Sans Mono',consolas,'Courier New',monospace\"><span style=\"font-weight: bold\"> Trainable params: </span><span style=\"color: #00af00; text-decoration-color: #00af00\">95,810</span> (374.26 KB)\n",
       "</pre>\n"
      ],
      "text/plain": [
       "\u001b[1m Trainable params: \u001b[0m\u001b[38;5;34m95,810\u001b[0m (374.26 KB)\n"
      ]
     },
     "metadata": {},
     "output_type": "display_data"
    },
    {
     "data": {
      "text/html": [
       "<pre style=\"white-space:pre;overflow-x:auto;line-height:normal;font-family:Menlo,'DejaVu Sans Mono',consolas,'Courier New',monospace\"><span style=\"font-weight: bold\"> Non-trainable params: </span><span style=\"color: #00af00; text-decoration-color: #00af00\">0</span> (0.00 B)\n",
       "</pre>\n"
      ],
      "text/plain": [
       "\u001b[1m Non-trainable params: \u001b[0m\u001b[38;5;34m0\u001b[0m (0.00 B)\n"
      ]
     },
     "metadata": {},
     "output_type": "display_data"
    }
   ],
   "source": [
    "from tensorflow.keras.losses import CategoricalCrossentropy, MeanSquaredError\n",
    "from gmrrnet_adhd.models.class_of_attention  import class_of_attention \n",
    "\n",
    "model_name = 'class_of_attention'\n",
    "model_args = {\n",
    "    \"input_shape\": (512, 19),  # 512 time steps, 19 channels\n",
    "    \"num_heads\": 6,\n",
    "    \"ff_dim\": 128,\n",
    "    \"num_blocks\": 6,\n",
    "    \"dense_dim\": 64,\n",
    "    \"dropout_rate\": 0.1,\n",
    "    \"num_classes\": 2\n",
    "}\n",
    "\n",
    "compile_args = {\n",
    "    \"optimizer\": lambda: tf.keras.optimizers.Adam(learning_rate=0.001),\n",
    "    \"loss\": \"categorical_crossentropy\",\n",
    "    \"metrics\": [\"accuracy\"]\n",
    "}\n",
    "\n",
    "model = class_of_attention(**model_args)\n",
    "\n",
    "model.summary()"
   ]
  },
  {
   "cell_type": "markdown",
   "id": "6e0815d8",
   "metadata": {
    "papermill": {
     "duration": 0.003211,
     "end_time": "2025-04-30T16:30:49.696022",
     "exception": false,
     "start_time": "2025-04-30T16:30:49.692811",
     "status": "completed"
    },
    "tags": []
   },
   "source": [
    "# Resultados - Leave 24 Subjects Out "
   ]
  },
  {
   "cell_type": "code",
   "execution_count": 5,
   "id": "dd9cb1e0",
   "metadata": {
    "execution": {
     "iopub.execute_input": "2025-04-30T16:30:49.703394Z",
     "iopub.status.busy": "2025-04-30T16:30:49.703168Z",
     "iopub.status.idle": "2025-04-30T16:30:49.716587Z",
     "shell.execute_reply": "2025-04-30T16:30:49.715892Z"
    },
    "papermill": {
     "duration": 0.018316,
     "end_time": "2025-04-30T16:30:49.717638",
     "exception": false,
     "start_time": "2025-04-30T16:30:49.699322",
     "status": "completed"
    },
    "tags": []
   },
   "outputs": [],
   "source": [
    "import os\n",
    "\n",
    "import pickle\n",
    "\n",
    "with open(\"/kaggle/input/ieee-tdah-control-database/folds.pkl\", \"rb\") as f:\n",
    "    folds = pickle.load(f)"
   ]
  },
  {
   "cell_type": "code",
   "execution_count": 6,
   "id": "5b8ada4e",
   "metadata": {
    "execution": {
     "iopub.execute_input": "2025-04-30T16:30:49.725381Z",
     "iopub.status.busy": "2025-04-30T16:30:49.724831Z",
     "iopub.status.idle": "2025-04-30T16:30:49.728997Z",
     "shell.execute_reply": "2025-04-30T16:30:49.728515Z"
    },
    "papermill": {
     "duration": 0.008991,
     "end_time": "2025-04-30T16:30:49.730028",
     "exception": false,
     "start_time": "2025-04-30T16:30:49.721037",
     "status": "completed"
    },
    "tags": []
   },
   "outputs": [
    {
     "data": {
      "text/plain": [
       "(8213, 512, 19)"
      ]
     },
     "execution_count": 6,
     "metadata": {},
     "output_type": "execute_result"
    }
   ],
   "source": [
    "X_transposed = X.transpose(0,2,1)\n",
    "X_transposed.shape"
   ]
  },
  {
   "cell_type": "code",
   "execution_count": 7,
   "id": "fe53915a",
   "metadata": {
    "execution": {
     "iopub.execute_input": "2025-04-30T16:30:49.737340Z",
     "iopub.status.busy": "2025-04-30T16:30:49.737139Z",
     "iopub.status.idle": "2025-04-30T17:05:24.584503Z",
     "shell.execute_reply": "2025-04-30T17:05:24.583614Z"
    },
    "papermill": {
     "duration": 2074.852427,
     "end_time": "2025-04-30T17:05:24.585771",
     "exception": false,
     "start_time": "2025-04-30T16:30:49.733344",
     "status": "completed"
    },
    "tags": []
   },
   "outputs": [
    {
     "name": "stdout",
     "output_type": "stream",
     "text": [
      "Fold 1/5. Test subjects: ['v28p', 'v274', 'v1p', 'v231', 'v22p', 'v29p', 'v206', 'v238', 'v31p', 'v35p', 'v177', 'v200', 'v112', 'v113', 'v48p', 'v140', 'v131', 'v125', 'v55p', 'v143', 'v43p', 'v305', 'v134', 'v114']\n"
     ]
    },
    {
     "name": "stderr",
     "output_type": "stream",
     "text": [
      "WARNING: All log messages before absl::InitializeLog() is called are written to STDERR\n",
      "I0000 00:00:1746030674.636101      71 service.cc:148] XLA service 0x797e10002330 initialized for platform CUDA (this does not guarantee that XLA will be used). Devices:\n",
      "I0000 00:00:1746030674.637408      71 service.cc:156]   StreamExecutor device (0): Tesla T4, Compute Capability 7.5\n",
      "I0000 00:00:1746030674.637429      71 service.cc:156]   StreamExecutor device (1): Tesla T4, Compute Capability 7.5\n",
      "I0000 00:00:1746030677.462115      71 cuda_dnn.cc:529] Loaded cuDNN version 90300\n",
      "I0000 00:00:1746030692.117685      71 device_compiler.h:188] Compiled cluster using XLA!  This line is logged at most once for the lifetime of the process.\n"
     ]
    },
    {
     "name": "stdout",
     "output_type": "stream",
     "text": [
      "\u001b[1m46/46\u001b[0m \u001b[32m━━━━━━━━━━━━━━━━━━━━\u001b[0m\u001b[37m\u001b[0m \u001b[1m7s\u001b[0m 95ms/step\n",
      "Fold metrics: {'accuracy': 0.4776938915579959, 'recall': 0.5, 'precision': 0.23884694577899795, 'kappa': 0.0, 'auc': 0.5}\n",
      "Fold 2/5. Test subjects: ['v18p', 'v39p', 'v234', 'v32p', 'v190', 'v6p', 'v254', 'v204', 'v24p', 'v183', 'v246', 'v219', 'v298', 'v41p', 'v47p', 'v308', 'v52p', 'v300', 'v59p', 'v299', 'v302', 'v51p', 'v109', 'v127']\n"
     ]
    },
    {
     "name": "stderr",
     "output_type": "stream",
     "text": [
      "/usr/local/lib/python3.11/dist-packages/sklearn/metrics/_classification.py:1344: UndefinedMetricWarning: Precision is ill-defined and being set to 0.0 in labels with no predicted samples. Use `zero_division` parameter to control this behavior.\n",
      "  _warn_prf(average, modifier, msg_start, len(result))\n"
     ]
    },
    {
     "name": "stdout",
     "output_type": "stream",
     "text": [
      "\u001b[1m53/53\u001b[0m \u001b[32m━━━━━━━━━━━━━━━━━━━━\u001b[0m\u001b[37m\u001b[0m \u001b[1m6s\u001b[0m 73ms/step\n",
      "Fold metrics: {'accuracy': 0.44184652278177455, 'recall': 0.5, 'precision': 0.22092326139088728, 'kappa': 0.0, 'auc': 0.5}\n",
      "Fold 3/5. Test subjects: ['v215', 'v3p', 'v209', 'v37p', 'v213', 'v15p', 'v284', 'v181', 'v19p', 'v34p', 'v263', 'v244', 'v138', 'v121', 'v46p', 'v54p', 'v120', 'v310', 'v147', 'v50p', 'v56p', 'v107', 'v297', 'v108']\n"
     ]
    },
    {
     "name": "stderr",
     "output_type": "stream",
     "text": [
      "/usr/local/lib/python3.11/dist-packages/sklearn/metrics/_classification.py:1344: UndefinedMetricWarning: Precision is ill-defined and being set to 0.0 in labels with no predicted samples. Use `zero_division` parameter to control this behavior.\n",
      "  _warn_prf(average, modifier, msg_start, len(result))\n"
     ]
    },
    {
     "name": "stdout",
     "output_type": "stream",
     "text": [
      "\u001b[1m56/56\u001b[0m \u001b[32m━━━━━━━━━━━━━━━━━━━━\u001b[0m\u001b[37m\u001b[0m \u001b[1m7s\u001b[0m 71ms/step\n",
      "Fold metrics: {'accuracy': 0.3987556561085973, 'recall': 0.5, 'precision': 0.19937782805429866, 'kappa': 0.0, 'auc': 0.5}\n",
      "Fold 4/5. Test subjects: ['v227', 'v8p', 'v236', 'v14p', 'v196', 'v27p', 'v33p', 'v179', 'v173', 'v10p', 'v265', 'v20p', 'v57p', 'v45p', 'v111', 'v115', 'v53p', 'v118', 'v123', 'v44p', 'v149', 'v303', 'v116', 'v151']\n"
     ]
    },
    {
     "name": "stderr",
     "output_type": "stream",
     "text": [
      "/usr/local/lib/python3.11/dist-packages/sklearn/metrics/_classification.py:1344: UndefinedMetricWarning: Precision is ill-defined and being set to 0.0 in labels with no predicted samples. Use `zero_division` parameter to control this behavior.\n",
      "  _warn_prf(average, modifier, msg_start, len(result))\n"
     ]
    },
    {
     "name": "stdout",
     "output_type": "stream",
     "text": [
      "\u001b[1m53/53\u001b[0m \u001b[32m━━━━━━━━━━━━━━━━━━━━\u001b[0m\u001b[37m\u001b[0m \u001b[1m7s\u001b[0m 87ms/step\n",
      "Fold metrics: {'accuracy': 0.5909899229401304, 'recall': 0.5748997435500249, 'precision': 0.5782217548779063, 'kappa': 0.1521464563694448, 'auc': 0.5748997435500249}\n",
      "Fold 5/5. Test subjects: ['v279', 'v30p', 'v288', 'v286', 'v250', 'v12p', 'v38p', 'v25p', 'v21p', 'v40p', 'v198', 'v270', 'v117', 'v306', 'v309', 'v110', 'v42p', 'v58p', 'v307', 'v133', 'v304', 'v129', 'v49p', 'v60p']\n",
      "\u001b[1m52/52\u001b[0m \u001b[32m━━━━━━━━━━━━━━━━━━━━\u001b[0m\u001b[37m\u001b[0m \u001b[1m6s\u001b[0m 77ms/step\n",
      "Fold metrics: {'accuracy': 0.48683404776484995, 'recall': 0.5, 'precision': 0.24341702388242498, 'kappa': 0.0, 'auc': 0.5}\n"
     ]
    },
    {
     "name": "stderr",
     "output_type": "stream",
     "text": [
      "/usr/local/lib/python3.11/dist-packages/sklearn/metrics/_classification.py:1344: UndefinedMetricWarning: Precision is ill-defined and being set to 0.0 in labels with no predicted samples. Use `zero_division` parameter to control this behavior.\n",
      "  _warn_prf(average, modifier, msg_start, len(result))\n"
     ]
    }
   ],
   "source": [
    "results = train_L24O_cv(class_of_attention, X_transposed, y, sbjs, model_args, compile_args, folds)"
   ]
  },
  {
   "cell_type": "code",
   "execution_count": 8,
   "id": "2e4cd283",
   "metadata": {
    "execution": {
     "iopub.execute_input": "2025-04-30T17:05:24.658329Z",
     "iopub.status.busy": "2025-04-30T17:05:24.657732Z",
     "iopub.status.idle": "2025-04-30T17:05:24.663068Z",
     "shell.execute_reply": "2025-04-30T17:05:24.662515Z"
    },
    "papermill": {
     "duration": 0.016605,
     "end_time": "2025-04-30T17:05:24.664076",
     "exception": false,
     "start_time": "2025-04-30T17:05:24.647471",
     "status": "completed"
    },
    "tags": []
   },
   "outputs": [
    {
     "data": {
      "text/plain": [
       "0.47922400823066963"
      ]
     },
     "execution_count": 8,
     "metadata": {},
     "output_type": "execute_result"
    }
   ],
   "source": [
    "import numpy as np\n",
    "\n",
    "accs = []\n",
    "for result in results:\n",
    "    accs.append(result['accuracy'])\n",
    "\n",
    "np.mean(accs)"
   ]
  },
  {
   "cell_type": "code",
   "execution_count": 9,
   "id": "898a0621",
   "metadata": {
    "execution": {
     "iopub.execute_input": "2025-04-30T17:05:24.683371Z",
     "iopub.status.busy": "2025-04-30T17:05:24.683178Z",
     "iopub.status.idle": "2025-04-30T17:05:24.686945Z",
     "shell.execute_reply": "2025-04-30T17:05:24.686402Z"
    },
    "papermill": {
     "duration": 0.0146,
     "end_time": "2025-04-30T17:05:24.688035",
     "exception": false,
     "start_time": "2025-04-30T17:05:24.673435",
     "status": "completed"
    },
    "tags": []
   },
   "outputs": [],
   "source": [
    "import pickle\n",
    "\n",
    "with open(f'results_L24SO_{model_name}.pkl', 'wb') as f:\n",
    "    pickle.dump(results, f)"
   ]
  }
 ],
 "metadata": {
  "kaggle": {
   "accelerator": "nvidiaTeslaT4",
   "dataSources": [
    {
     "datasetId": 6567861,
     "sourceId": 10680378,
     "sourceType": "datasetVersion"
    }
   ],
   "dockerImageVersionId": 31011,
   "isGpuEnabled": true,
   "isInternetEnabled": true,
   "language": "python",
   "sourceType": "notebook"
  },
  "kernelspec": {
   "display_name": "Python 3",
   "language": "python",
   "name": "python3"
  },
  "language_info": {
   "codemirror_mode": {
    "name": "ipython",
    "version": 3
   },
   "file_extension": ".py",
   "mimetype": "text/x-python",
   "name": "python",
   "nbconvert_exporter": "python",
   "pygments_lexer": "ipython3",
   "version": "3.11.11"
  },
  "papermill": {
   "default_parameters": {},
   "duration": 2121.056377,
   "end_time": "2025-04-30T17:05:27.990546",
   "environment_variables": {},
   "exception": null,
   "input_path": "__notebook__.ipynb",
   "output_path": "__notebook__.ipynb",
   "parameters": {},
   "start_time": "2025-04-30T16:30:06.934169",
   "version": "2.6.0"
  }
 },
 "nbformat": 4,
 "nbformat_minor": 5
}
