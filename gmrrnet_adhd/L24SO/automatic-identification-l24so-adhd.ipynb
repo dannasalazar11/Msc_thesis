{
 "cells": [
  {
   "cell_type": "markdown",
   "id": "73ddc961",
   "metadata": {
    "papermill": {
     "duration": 0.003096,
     "end_time": "2025-04-29T21:13:38.338661",
     "exception": false,
     "start_time": "2025-04-29T21:13:38.335565",
     "status": "completed"
    },
    "tags": []
   },
   "source": [
    "# Clonamos el repositorio con los modelos y herramientas"
   ]
  },
  {
   "cell_type": "code",
   "execution_count": 1,
   "id": "3ea92c75",
   "metadata": {
    "execution": {
     "iopub.execute_input": "2025-04-29T21:13:38.345743Z",
     "iopub.status.busy": "2025-04-29T21:13:38.344940Z",
     "iopub.status.idle": "2025-04-29T21:13:41.189915Z",
     "shell.execute_reply": "2025-04-29T21:13:41.188939Z"
    },
    "papermill": {
     "duration": 2.850237,
     "end_time": "2025-04-29T21:13:41.191664",
     "exception": false,
     "start_time": "2025-04-29T21:13:38.341427",
     "status": "completed"
    },
    "tags": []
   },
   "outputs": [
    {
     "name": "stdout",
     "output_type": "stream",
     "text": [
      "Cloning into 'Msc_thesis'...\r\n",
      "remote: Enumerating objects: 202, done.\u001b[K\r\n",
      "remote: Counting objects: 100% (30/30), done.\u001b[K\r\n",
      "remote: Compressing objects: 100% (22/22), done.\u001b[K\r\n",
      "remote: Total 202 (delta 15), reused 19 (delta 8), pack-reused 172 (from 1)\u001b[K\r\n",
      "Receiving objects: 100% (202/202), 49.89 MiB | 39.03 MiB/s, done.\r\n",
      "Resolving deltas: 100% (106/106), done.\r\n"
     ]
    }
   ],
   "source": [
    "!git clone https://github.com/dannasalazar11/Msc_thesis.git"
   ]
  },
  {
   "cell_type": "code",
   "execution_count": 2,
   "id": "8e1d3b11",
   "metadata": {
    "execution": {
     "iopub.execute_input": "2025-04-29T21:13:41.202733Z",
     "iopub.status.busy": "2025-04-29T21:13:41.201695Z",
     "iopub.status.idle": "2025-04-29T21:14:00.268347Z",
     "shell.execute_reply": "2025-04-29T21:14:00.267390Z"
    },
    "papermill": {
     "duration": 19.074286,
     "end_time": "2025-04-29T21:14:00.270511",
     "exception": false,
     "start_time": "2025-04-29T21:13:41.196225",
     "status": "completed"
    },
    "tags": []
   },
   "outputs": [
    {
     "name": "stderr",
     "output_type": "stream",
     "text": [
      "2025-04-29 21:13:44.446767: E external/local_xla/xla/stream_executor/cuda/cuda_fft.cc:477] Unable to register cuFFT factory: Attempting to register factory for plugin cuFFT when one has already been registered\n",
      "WARNING: All log messages before absl::InitializeLog() is called are written to STDERR\n",
      "E0000 00:00:1745961224.676561      13 cuda_dnn.cc:8310] Unable to register cuDNN factory: Attempting to register factory for plugin cuDNN when one has already been registered\n",
      "E0000 00:00:1745961224.746634      13 cuda_blas.cc:1418] Unable to register cuBLAS factory: Attempting to register factory for plugin cuBLAS when one has already been registered\n"
     ]
    }
   ],
   "source": [
    "import sys\n",
    "sys.path.append('/kaggle/working/Msc_thesis')\n",
    "\n",
    "from gmrrnet_adhd.utils import get_segmented_data, train_L24O_cv\n",
    "from gmrrnet_adhd.models.automatic_identification import automatic_identification\n",
    "from tensorflow.keras.mixed_precision import set_global_policy\n",
    "set_global_policy('mixed_float16')"
   ]
  },
  {
   "cell_type": "markdown",
   "id": "5756b078",
   "metadata": {
    "papermill": {
     "duration": 0.002909,
     "end_time": "2025-04-29T21:14:00.278455",
     "exception": false,
     "start_time": "2025-04-29T21:14:00.275546",
     "status": "completed"
    },
    "tags": []
   },
   "source": [
    "# Importar base de datos segmentada (Segmentos de 4 seg con translape del 50%, es decir, de 2 seg + el preprocesamiento del artículo)"
   ]
  },
  {
   "cell_type": "code",
   "execution_count": 3,
   "id": "273a1bde",
   "metadata": {
    "execution": {
     "iopub.execute_input": "2025-04-29T21:14:00.286313Z",
     "iopub.status.busy": "2025-04-29T21:14:00.285607Z",
     "iopub.status.idle": "2025-04-29T21:14:03.038109Z",
     "shell.execute_reply": "2025-04-29T21:14:03.037153Z"
    },
    "papermill": {
     "duration": 2.758035,
     "end_time": "2025-04-29T21:14:03.039609",
     "exception": false,
     "start_time": "2025-04-29T21:14:00.281574",
     "status": "completed"
    },
    "tags": []
   },
   "outputs": [
    {
     "data": {
      "text/plain": [
       "((8213, 836), (8213,), 8213)"
      ]
     },
     "execution_count": 3,
     "metadata": {},
     "output_type": "execute_result"
    }
   ],
   "source": [
    "import requests\n",
    "import pickle\n",
    "import io\n",
    "from sklearn.preprocessing import OneHotEncoder\n",
    "\n",
    "\n",
    "url = 'https://raw.githubusercontent.com/dannasalazar11/Msc_thesis/main/gmrrnet_adhd/L24SO/results/X_preprocessed.pkl'\n",
    "response = requests.get(url)\n",
    "X = pickle.load(io.BytesIO(response.content))\n",
    "\n",
    "url = 'https://raw.githubusercontent.com/dannasalazar11/Msc_thesis/main/gmrrnet_adhd/L24SO/results/y.pkl'\n",
    "response = requests.get(url)\n",
    "y = pickle.load(io.BytesIO(response.content))\n",
    "# y = y.reshape(-1, 1)  # sklearn espera 2D\n",
    "# encoder = OneHotEncoder(sparse_output=False)\n",
    "# y = encoder.fit_transform(y)\n",
    "\n",
    "_, _, sbjs = get_segmented_data()\n",
    "\n",
    "X.shape, y.shape, len(sbjs)"
   ]
  },
  {
   "cell_type": "markdown",
   "id": "4a5f9033",
   "metadata": {
    "papermill": {
     "duration": 0.004126,
     "end_time": "2025-04-29T21:14:03.047026",
     "exception": false,
     "start_time": "2025-04-29T21:14:03.042900",
     "status": "completed"
    },
    "tags": []
   },
   "source": [
    "# Importamos el modelo y definimos los hiperparámetros"
   ]
  },
  {
   "cell_type": "code",
   "execution_count": 4,
   "id": "8416704d",
   "metadata": {
    "execution": {
     "iopub.execute_input": "2025-04-29T21:14:03.054350Z",
     "iopub.status.busy": "2025-04-29T21:14:03.053722Z",
     "iopub.status.idle": "2025-04-29T21:14:04.631316Z",
     "shell.execute_reply": "2025-04-29T21:14:04.628646Z"
    },
    "papermill": {
     "duration": 1.583991,
     "end_time": "2025-04-29T21:14:04.633919",
     "exception": false,
     "start_time": "2025-04-29T21:14:03.049928",
     "status": "completed"
    },
    "tags": []
   },
   "outputs": [
    {
     "name": "stdout",
     "output_type": "stream",
     "text": [
      "Selected features: 756\n",
      "X shape after ANOVA filter: (8213, 756)\n",
      "Original ANOVA-selected shape: (8213, 756)\n",
      "Reduced shape after PCA: (8213, 177)\n",
      "Number of components selected: 177\n"
     ]
    }
   ],
   "source": [
    "model_name = 'Automatic_Identification'\n",
    "\n",
    "X_pca, model = automatic_identification(X,y)"
   ]
  },
  {
   "cell_type": "markdown",
   "id": "57c25317",
   "metadata": {
    "papermill": {
     "duration": 0.004871,
     "end_time": "2025-04-29T21:14:04.650069",
     "exception": false,
     "start_time": "2025-04-29T21:14:04.645198",
     "status": "completed"
    },
    "tags": []
   },
   "source": [
    "# Resultados - Leave 24 Subjects Out"
   ]
  },
  {
   "cell_type": "code",
   "execution_count": 5,
   "id": "087e75d7",
   "metadata": {
    "execution": {
     "iopub.execute_input": "2025-04-29T21:14:04.661888Z",
     "iopub.status.busy": "2025-04-29T21:14:04.661345Z",
     "iopub.status.idle": "2025-04-29T21:14:04.670843Z",
     "shell.execute_reply": "2025-04-29T21:14:04.670076Z"
    },
    "papermill": {
     "duration": 0.017338,
     "end_time": "2025-04-29T21:14:04.672627",
     "exception": false,
     "start_time": "2025-04-29T21:14:04.655289",
     "status": "completed"
    },
    "tags": []
   },
   "outputs": [],
   "source": [
    "import os\n",
    "\n",
    "import pickle\n",
    "\n",
    "with open(\"/kaggle/input/ieee-tdah-control-database/folds.pkl\", \"rb\") as f:\n",
    "    folds = pickle.load(f)"
   ]
  },
  {
   "cell_type": "code",
   "execution_count": 6,
   "id": "de31ec8b",
   "metadata": {
    "execution": {
     "iopub.execute_input": "2025-04-29T21:14:04.680804Z",
     "iopub.status.busy": "2025-04-29T21:14:04.680508Z",
     "iopub.status.idle": "2025-04-29T21:14:22.508485Z",
     "shell.execute_reply": "2025-04-29T21:14:22.507475Z"
    },
    "papermill": {
     "duration": 17.833216,
     "end_time": "2025-04-29T21:14:22.509837",
     "exception": false,
     "start_time": "2025-04-29T21:14:04.676621",
     "status": "completed"
    },
    "tags": []
   },
   "outputs": [
    {
     "name": "stdout",
     "output_type": "stream",
     "text": [
      "Fold 1/5. Test subjects: ['v28p', 'v274', 'v1p', 'v231', 'v22p', 'v29p', 'v206', 'v238', 'v31p', 'v35p', 'v177', 'v200', 'v112', 'v113', 'v48p', 'v140', 'v131', 'v125', 'v55p', 'v143', 'v43p', 'v305', 'v134', 'v114']\n",
      "Fold metrics: {'accuracy': 0.6691832532601235, 'recall': 0.6694439409730089, 'precision': 0.6691086967172031, 'kappa': 0.3382651974724431, 'auc': 0.6694439409730089}\n",
      "Fold 2/5. Test subjects: ['v18p', 'v39p', 'v234', 'v32p', 'v190', 'v6p', 'v254', 'v204', 'v24p', 'v183', 'v246', 'v219', 'v298', 'v41p', 'v47p', 'v308', 'v52p', 'v300', 'v59p', 'v299', 'v302', 'v51p', 'v109', 'v127']\n",
      "Fold metrics: {'accuracy': 0.6642685851318945, 'recall': 0.6378939206904644, 'precision': 0.678005610209, 'kappa': 0.2883427730312629, 'auc': 0.6378939206904644}\n",
      "Fold 3/5. Test subjects: ['v215', 'v3p', 'v209', 'v37p', 'v213', 'v15p', 'v284', 'v181', 'v19p', 'v34p', 'v263', 'v244', 'v138', 'v121', 'v46p', 'v54p', 'v120', 'v310', 'v147', 'v50p', 'v56p', 'v107', 'v297', 'v108']\n",
      "Fold metrics: {'accuracy': 0.6430995475113123, 'recall': 0.635125397810292, 'precision': 0.6319358671690561, 'kappa': 0.26636977959686137, 'auc': 0.635125397810292}\n",
      "Fold 4/5. Test subjects: ['v227', 'v8p', 'v236', 'v14p', 'v196', 'v27p', 'v33p', 'v179', 'v173', 'v10p', 'v265', 'v20p', 'v57p', 'v45p', 'v111', 'v115', 'v53p', 'v118', 'v123', 'v44p', 'v149', 'v303', 'v116', 'v151']\n",
      "Fold metrics: {'accuracy': 0.7166567871962063, 'recall': 0.7211371863938085, 'precision': 0.7166988525521019, 'kappa': 0.43336115983090484, 'auc': 0.7211371863938084}\n",
      "Fold 5/5. Test subjects: ['v279', 'v30p', 'v288', 'v286', 'v250', 'v12p', 'v38p', 'v25p', 'v21p', 'v40p', 'v198', 'v270', 'v117', 'v306', 'v309', 'v110', 'v42p', 'v58p', 'v307', 'v133', 'v304', 'v129', 'v49p', 'v60p']\n",
      "Fold metrics: {'accuracy': 0.6301285976729945, 'recall': 0.6273547379955269, 'precision': 0.6335792532975633, 'kappa': 0.2559982862039417, 'auc': 0.6273547379955269}\n"
     ]
    }
   ],
   "source": [
    "results = train_L24O_cv(model, X_pca, y, sbjs, folds=folds, model_name=model_name)"
   ]
  },
  {
   "cell_type": "code",
   "execution_count": 7,
   "id": "8f473dad",
   "metadata": {
    "execution": {
     "iopub.execute_input": "2025-04-29T21:14:22.518300Z",
     "iopub.status.busy": "2025-04-29T21:14:22.518004Z",
     "iopub.status.idle": "2025-04-29T21:14:22.524481Z",
     "shell.execute_reply": "2025-04-29T21:14:22.523527Z"
    },
    "papermill": {
     "duration": 0.012159,
     "end_time": "2025-04-29T21:14:22.525831",
     "exception": false,
     "start_time": "2025-04-29T21:14:22.513672",
     "status": "completed"
    },
    "tags": []
   },
   "outputs": [
    {
     "data": {
      "text/plain": [
       "0.6646673541545063"
      ]
     },
     "execution_count": 7,
     "metadata": {},
     "output_type": "execute_result"
    }
   ],
   "source": [
    "import numpy as np\n",
    "\n",
    "accs = []\n",
    "for result in results:\n",
    "    accs.append(result['accuracy'])\n",
    "\n",
    "np.mean(accs)"
   ]
  },
  {
   "cell_type": "code",
   "execution_count": 8,
   "id": "2e8241e3",
   "metadata": {
    "execution": {
     "iopub.execute_input": "2025-04-29T21:14:22.534505Z",
     "iopub.status.busy": "2025-04-29T21:14:22.534179Z",
     "iopub.status.idle": "2025-04-29T21:14:22.539312Z",
     "shell.execute_reply": "2025-04-29T21:14:22.538477Z"
    },
    "papermill": {
     "duration": 0.011177,
     "end_time": "2025-04-29T21:14:22.540727",
     "exception": false,
     "start_time": "2025-04-29T21:14:22.529550",
     "status": "completed"
    },
    "tags": []
   },
   "outputs": [],
   "source": [
    "import pickle\n",
    "\n",
    "with open(f'results_L24SO_{model_name}.pkl', 'wb') as f:\n",
    "    pickle.dump(results, f)"
   ]
  }
 ],
 "metadata": {
  "kaggle": {
   "accelerator": "none",
   "dataSources": [
    {
     "datasetId": 6567861,
     "sourceId": 10680378,
     "sourceType": "datasetVersion"
    }
   ],
   "dockerImageVersionId": 31011,
   "isGpuEnabled": false,
   "isInternetEnabled": true,
   "language": "python",
   "sourceType": "notebook"
  },
  "kernelspec": {
   "display_name": "Python 3",
   "language": "python",
   "name": "python3"
  },
  "language_info": {
   "codemirror_mode": {
    "name": "ipython",
    "version": 3
   },
   "file_extension": ".py",
   "mimetype": "text/x-python",
   "name": "python",
   "nbconvert_exporter": "python",
   "pygments_lexer": "ipython3",
   "version": "3.11.11"
  },
  "papermill": {
   "default_parameters": {},
   "duration": 52.131724,
   "end_time": "2025-04-29T21:14:25.800281",
   "environment_variables": {},
   "exception": null,
   "input_path": "__notebook__.ipynb",
   "output_path": "__notebook__.ipynb",
   "parameters": {},
   "start_time": "2025-04-29T21:13:33.668557",
   "version": "2.6.0"
  }
 },
 "nbformat": 4,
 "nbformat_minor": 5
}
