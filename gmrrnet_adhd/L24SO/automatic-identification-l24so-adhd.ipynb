{
 "cells": [
  {
   "cell_type": "markdown",
   "id": "9d502fae",
   "metadata": {
    "papermill": {
     "duration": 0.003813,
     "end_time": "2025-04-29T21:06:00.389335",
     "exception": false,
     "start_time": "2025-04-29T21:06:00.385522",
     "status": "completed"
    },
    "tags": []
   },
   "source": [
    "# Clonamos el repositorio con los modelos y herramientas"
   ]
  },
  {
   "cell_type": "code",
   "execution_count": 1,
   "id": "f8a55f68",
   "metadata": {
    "execution": {
     "iopub.execute_input": "2025-04-29T21:06:00.396579Z",
     "iopub.status.busy": "2025-04-29T21:06:00.396241Z",
     "iopub.status.idle": "2025-04-29T21:06:03.907851Z",
     "shell.execute_reply": "2025-04-29T21:06:03.906598Z"
    },
    "papermill": {
     "duration": 3.517406,
     "end_time": "2025-04-29T21:06:03.909857",
     "exception": false,
     "start_time": "2025-04-29T21:06:00.392451",
     "status": "completed"
    },
    "tags": []
   },
   "outputs": [
    {
     "name": "stdout",
     "output_type": "stream",
     "text": [
      "Cloning into 'Msc_thesis'...\r\n",
      "remote: Enumerating objects: 192, done.\u001b[K\r\n",
      "remote: Counting objects: 100% (20/20), done.\u001b[K\r\n",
      "remote: Compressing objects: 100% (14/14), done.\u001b[K\r\n",
      "remote: Total 192 (delta 12), reused 14 (delta 6), pack-reused 172 (from 1)\u001b[K\r\n",
      "Receiving objects: 100% (192/192), 49.88 MiB | 25.53 MiB/s, done.\r\n",
      "Resolving deltas: 100% (103/103), done.\r\n"
     ]
    }
   ],
   "source": [
    "!git clone https://github.com/dannasalazar11/Msc_thesis.git"
   ]
  },
  {
   "cell_type": "code",
   "execution_count": 2,
   "id": "003f5f9a",
   "metadata": {
    "execution": {
     "iopub.execute_input": "2025-04-29T21:06:03.918988Z",
     "iopub.status.busy": "2025-04-29T21:06:03.917851Z",
     "iopub.status.idle": "2025-04-29T21:06:22.488587Z",
     "shell.execute_reply": "2025-04-29T21:06:22.487628Z"
    },
    "papermill": {
     "duration": 18.576806,
     "end_time": "2025-04-29T21:06:22.490202",
     "exception": false,
     "start_time": "2025-04-29T21:06:03.913396",
     "status": "completed"
    },
    "tags": []
   },
   "outputs": [
    {
     "name": "stderr",
     "output_type": "stream",
     "text": [
      "2025-04-29 21:06:07.215652: E external/local_xla/xla/stream_executor/cuda/cuda_fft.cc:477] Unable to register cuFFT factory: Attempting to register factory for plugin cuFFT when one has already been registered\n",
      "WARNING: All log messages before absl::InitializeLog() is called are written to STDERR\n",
      "E0000 00:00:1745960767.460539      13 cuda_dnn.cc:8310] Unable to register cuDNN factory: Attempting to register factory for plugin cuDNN when one has already been registered\n",
      "E0000 00:00:1745960767.527129      13 cuda_blas.cc:1418] Unable to register cuBLAS factory: Attempting to register factory for plugin cuBLAS when one has already been registered\n"
     ]
    }
   ],
   "source": [
    "import sys\n",
    "sys.path.append('/kaggle/working/Msc_thesis')\n",
    "\n",
    "from gmrrnet_adhd.utils import get_segmented_data, train_L24O_cv\n",
    "from tensorflow.keras.mixed_precision import set_global_policy\n",
    "set_global_policy('mixed_float16')"
   ]
  },
  {
   "cell_type": "markdown",
   "id": "9b90ecd2",
   "metadata": {
    "papermill": {
     "duration": 0.002993,
     "end_time": "2025-04-29T21:06:22.496853",
     "exception": false,
     "start_time": "2025-04-29T21:06:22.493860",
     "status": "completed"
    },
    "tags": []
   },
   "source": [
    "# Importar base de datos segmentada (Segmentos de 4 seg con translape del 50%, es decir, de 2 seg + el preprocesamiento del artículo)"
   ]
  },
  {
   "cell_type": "code",
   "execution_count": 3,
   "id": "53166915",
   "metadata": {
    "execution": {
     "iopub.execute_input": "2025-04-29T21:06:22.504556Z",
     "iopub.status.busy": "2025-04-29T21:06:22.503950Z",
     "iopub.status.idle": "2025-04-29T21:06:25.309290Z",
     "shell.execute_reply": "2025-04-29T21:06:25.308321Z"
    },
    "papermill": {
     "duration": 2.811028,
     "end_time": "2025-04-29T21:06:25.310939",
     "exception": false,
     "start_time": "2025-04-29T21:06:22.499911",
     "status": "completed"
    },
    "tags": []
   },
   "outputs": [
    {
     "data": {
      "text/plain": [
       "((8213, 836), (8213,), 8213)"
      ]
     },
     "execution_count": 3,
     "metadata": {},
     "output_type": "execute_result"
    }
   ],
   "source": [
    "import requests\n",
    "import pickle\n",
    "import io\n",
    "from sklearn.preprocessing import OneHotEncoder\n",
    "\n",
    "\n",
    "url = 'https://raw.githubusercontent.com/dannasalazar11/Msc_thesis/main/gmrrnet_adhd/L24SO/results/X_preprocessed.pkl'\n",
    "response = requests.get(url)\n",
    "X = pickle.load(io.BytesIO(response.content))\n",
    "\n",
    "url = 'https://raw.githubusercontent.com/dannasalazar11/Msc_thesis/main/gmrrnet_adhd/L24SO/results/y.pkl'\n",
    "response = requests.get(url)\n",
    "y = pickle.load(io.BytesIO(response.content))\n",
    "# y = y.reshape(-1, 1)  # sklearn espera 2D\n",
    "# encoder = OneHotEncoder(sparse_output=False)\n",
    "# y = encoder.fit_transform(y)\n",
    "\n",
    "_, _, sbjs = get_segmented_data()\n",
    "\n",
    "X.shape, y.shape, len(sbjs)"
   ]
  },
  {
   "cell_type": "markdown",
   "id": "389e9d28",
   "metadata": {
    "papermill": {
     "duration": 0.004266,
     "end_time": "2025-04-29T21:06:25.318541",
     "exception": false,
     "start_time": "2025-04-29T21:06:25.314275",
     "status": "completed"
    },
    "tags": []
   },
   "source": [
    "# Importamos el modelo y definimos los hiperparámetros"
   ]
  },
  {
   "cell_type": "code",
   "execution_count": 4,
   "id": "fae7e7c8",
   "metadata": {
    "execution": {
     "iopub.execute_input": "2025-04-29T21:06:25.326465Z",
     "iopub.status.busy": "2025-04-29T21:06:25.325684Z",
     "iopub.status.idle": "2025-04-29T21:06:25.570132Z",
     "shell.execute_reply": "2025-04-29T21:06:25.569199Z"
    },
    "papermill": {
     "duration": 0.250274,
     "end_time": "2025-04-29T21:06:25.571908",
     "exception": false,
     "start_time": "2025-04-29T21:06:25.321634",
     "status": "completed"
    },
    "tags": []
   },
   "outputs": [],
   "source": [
    "import numpy as np\n",
    "from sklearn.feature_selection import SelectKBest, f_classif\n",
    "from sklearn.preprocessing import StandardScaler\n",
    "from sklearn.decomposition import PCA\n",
    "from sklearn.svm import SVC\n",
    "\n",
    "\n",
    "def automatic_identification(X,y):\n",
    "    # Run ANOVA\n",
    "    selector = SelectKBest(score_func=f_classif, k='all')\n",
    "    selector.fit(X, y)\n",
    "    \n",
    "    # Get p-values and scores\n",
    "    p_values = selector.pvalues_\n",
    "    scores = selector.scores_\n",
    "    \n",
    "    # Create mask for p-values <= 0.5\n",
    "    mask = p_values <= 0.5\n",
    "    \n",
    "    # Apply the mask to X\n",
    "    X_selected = X[:, mask]\n",
    "    \n",
    "    print(\"Selected features:\", np.sum(mask))\n",
    "    print(\"X shape after ANOVA filter:\", X_selected.shape)\n",
    "\n",
    "    # Standardize the data\n",
    "    scaler = StandardScaler()\n",
    "    X_scaled = scaler.fit_transform(X_selected)\n",
    "    \n",
    "    # Apply PCA\n",
    "    pca = PCA(n_components=0.90)  # Retain 90% of the variance\n",
    "    X_pca = pca.fit_transform(X_scaled)\n",
    "    \n",
    "    # Print results\n",
    "    print(\"Original ANOVA-selected shape:\", X_selected.shape)\n",
    "    print(\"Reduced shape after PCA:\", X_pca.shape)\n",
    "    print(\"Number of components selected:\", X_pca.shape[1])\n",
    "\n",
    "    return X_pca, SVC(kernel='rbf', gamma='scale', C=1.0)    \n",
    "\n"
   ]
  },
  {
   "cell_type": "code",
   "execution_count": 5,
   "id": "45e06305",
   "metadata": {
    "execution": {
     "iopub.execute_input": "2025-04-29T21:06:25.580383Z",
     "iopub.status.busy": "2025-04-29T21:06:25.579579Z",
     "iopub.status.idle": "2025-04-29T21:06:27.176684Z",
     "shell.execute_reply": "2025-04-29T21:06:27.174360Z"
    },
    "papermill": {
     "duration": 1.602832,
     "end_time": "2025-04-29T21:06:27.178299",
     "exception": false,
     "start_time": "2025-04-29T21:06:25.575467",
     "status": "completed"
    },
    "tags": []
   },
   "outputs": [
    {
     "name": "stdout",
     "output_type": "stream",
     "text": [
      "Selected features: 756\n",
      "X shape after ANOVA filter: (8213, 756)\n",
      "Original ANOVA-selected shape: (8213, 756)\n",
      "Reduced shape after PCA: (8213, 177)\n",
      "Number of components selected: 177\n"
     ]
    }
   ],
   "source": [
    "model_name = 'Automatic_Identification'\n",
    "\n",
    "X_pca, model = automatic_identification(X,y)"
   ]
  },
  {
   "cell_type": "markdown",
   "id": "83cf0868",
   "metadata": {
    "papermill": {
     "duration": 0.005224,
     "end_time": "2025-04-29T21:06:27.192266",
     "exception": false,
     "start_time": "2025-04-29T21:06:27.187042",
     "status": "completed"
    },
    "tags": []
   },
   "source": [
    "# Resultados - Leave 24 Subjects Out"
   ]
  },
  {
   "cell_type": "code",
   "execution_count": 6,
   "id": "2dd43743",
   "metadata": {
    "execution": {
     "iopub.execute_input": "2025-04-29T21:06:27.202257Z",
     "iopub.status.busy": "2025-04-29T21:06:27.201973Z",
     "iopub.status.idle": "2025-04-29T21:06:27.209345Z",
     "shell.execute_reply": "2025-04-29T21:06:27.208703Z"
    },
    "papermill": {
     "duration": 0.012977,
     "end_time": "2025-04-29T21:06:27.210655",
     "exception": false,
     "start_time": "2025-04-29T21:06:27.197678",
     "status": "completed"
    },
    "tags": []
   },
   "outputs": [],
   "source": [
    "import os\n",
    "\n",
    "import pickle\n",
    "\n",
    "with open(\"/kaggle/input/ieee-tdah-control-database/folds.pkl\", \"rb\") as f:\n",
    "    folds = pickle.load(f)"
   ]
  },
  {
   "cell_type": "code",
   "execution_count": 7,
   "id": "8ead2113",
   "metadata": {
    "execution": {
     "iopub.execute_input": "2025-04-29T21:06:27.218767Z",
     "iopub.status.busy": "2025-04-29T21:06:27.218156Z",
     "iopub.status.idle": "2025-04-29T21:06:45.180122Z",
     "shell.execute_reply": "2025-04-29T21:06:45.179175Z"
    },
    "papermill": {
     "duration": 17.96771,
     "end_time": "2025-04-29T21:06:45.181784",
     "exception": false,
     "start_time": "2025-04-29T21:06:27.214074",
     "status": "completed"
    },
    "tags": []
   },
   "outputs": [
    {
     "name": "stdout",
     "output_type": "stream",
     "text": [
      "Fold 1/5. Test subjects: ['v28p', 'v274', 'v1p', 'v231', 'v22p', 'v29p', 'v206', 'v238', 'v31p', 'v35p', 'v177', 'v200', 'v112', 'v113', 'v48p', 'v140', 'v131', 'v125', 'v55p', 'v143', 'v43p', 'v305', 'v134', 'v114']\n",
      "Fold metrics: {'accuracy': 0.6691832532601235, 'recall': 0.6694439409730089, 'precision': 0.6691086967172031, 'kappa': 0.3382651974724431, 'auc': 0.6694439409730089}\n",
      "Fold 2/5. Test subjects: ['v18p', 'v39p', 'v234', 'v32p', 'v190', 'v6p', 'v254', 'v204', 'v24p', 'v183', 'v246', 'v219', 'v298', 'v41p', 'v47p', 'v308', 'v52p', 'v300', 'v59p', 'v299', 'v302', 'v51p', 'v109', 'v127']\n",
      "Fold metrics: {'accuracy': 0.6642685851318945, 'recall': 0.6378939206904644, 'precision': 0.678005610209, 'kappa': 0.2883427730312629, 'auc': 0.6378939206904644}\n",
      "Fold 3/5. Test subjects: ['v215', 'v3p', 'v209', 'v37p', 'v213', 'v15p', 'v284', 'v181', 'v19p', 'v34p', 'v263', 'v244', 'v138', 'v121', 'v46p', 'v54p', 'v120', 'v310', 'v147', 'v50p', 'v56p', 'v107', 'v297', 'v108']\n",
      "Fold metrics: {'accuracy': 0.6430995475113123, 'recall': 0.635125397810292, 'precision': 0.6319358671690561, 'kappa': 0.26636977959686137, 'auc': 0.635125397810292}\n",
      "Fold 4/5. Test subjects: ['v227', 'v8p', 'v236', 'v14p', 'v196', 'v27p', 'v33p', 'v179', 'v173', 'v10p', 'v265', 'v20p', 'v57p', 'v45p', 'v111', 'v115', 'v53p', 'v118', 'v123', 'v44p', 'v149', 'v303', 'v116', 'v151']\n",
      "Fold metrics: {'accuracy': 0.7166567871962063, 'recall': 0.7211371863938085, 'precision': 0.7166988525521019, 'kappa': 0.43336115983090484, 'auc': 0.7211371863938084}\n",
      "Fold 5/5. Test subjects: ['v279', 'v30p', 'v288', 'v286', 'v250', 'v12p', 'v38p', 'v25p', 'v21p', 'v40p', 'v198', 'v270', 'v117', 'v306', 'v309', 'v110', 'v42p', 'v58p', 'v307', 'v133', 'v304', 'v129', 'v49p', 'v60p']\n",
      "Fold metrics: {'accuracy': 0.6301285976729945, 'recall': 0.6273547379955269, 'precision': 0.6335792532975633, 'kappa': 0.2559982862039417, 'auc': 0.6273547379955269}\n"
     ]
    }
   ],
   "source": [
    "results = train_L24O_cv(model, X_pca, y, sbjs, folds=folds, model_name=model_name)"
   ]
  },
  {
   "cell_type": "code",
   "execution_count": 8,
   "id": "2378b2cd",
   "metadata": {
    "execution": {
     "iopub.execute_input": "2025-04-29T21:06:45.190233Z",
     "iopub.status.busy": "2025-04-29T21:06:45.189927Z",
     "iopub.status.idle": "2025-04-29T21:06:45.196225Z",
     "shell.execute_reply": "2025-04-29T21:06:45.195556Z"
    },
    "papermill": {
     "duration": 0.011902,
     "end_time": "2025-04-29T21:06:45.197510",
     "exception": false,
     "start_time": "2025-04-29T21:06:45.185608",
     "status": "completed"
    },
    "tags": []
   },
   "outputs": [
    {
     "data": {
      "text/plain": [
       "0.6646673541545063"
      ]
     },
     "execution_count": 8,
     "metadata": {},
     "output_type": "execute_result"
    }
   ],
   "source": [
    "import numpy as np\n",
    "\n",
    "accs = []\n",
    "for result in results:\n",
    "    accs.append(result['accuracy'])\n",
    "\n",
    "np.mean(accs)"
   ]
  },
  {
   "cell_type": "code",
   "execution_count": 9,
   "id": "004986c9",
   "metadata": {
    "execution": {
     "iopub.execute_input": "2025-04-29T21:06:45.206175Z",
     "iopub.status.busy": "2025-04-29T21:06:45.205852Z",
     "iopub.status.idle": "2025-04-29T21:06:45.210476Z",
     "shell.execute_reply": "2025-04-29T21:06:45.209792Z"
    },
    "papermill": {
     "duration": 0.01049,
     "end_time": "2025-04-29T21:06:45.211756",
     "exception": false,
     "start_time": "2025-04-29T21:06:45.201266",
     "status": "completed"
    },
    "tags": []
   },
   "outputs": [],
   "source": [
    "import pickle\n",
    "\n",
    "with open(f'results_L24SO_{model_name}.pkl', 'wb') as f:\n",
    "    pickle.dump(results, f)"
   ]
  }
 ],
 "metadata": {
  "kaggle": {
   "accelerator": "none",
   "dataSources": [
    {
     "datasetId": 6567861,
     "sourceId": 10680378,
     "sourceType": "datasetVersion"
    }
   ],
   "dockerImageVersionId": 31011,
   "isGpuEnabled": false,
   "isInternetEnabled": true,
   "language": "python",
   "sourceType": "notebook"
  },
  "kernelspec": {
   "display_name": "Python 3",
   "language": "python",
   "name": "python3"
  },
  "language_info": {
   "codemirror_mode": {
    "name": "ipython",
    "version": 3
   },
   "file_extension": ".py",
   "mimetype": "text/x-python",
   "name": "python",
   "nbconvert_exporter": "python",
   "pygments_lexer": "ipython3",
   "version": "3.11.11"
  },
  "papermill": {
   "default_parameters": {},
   "duration": 52.084358,
   "end_time": "2025-04-29T21:06:47.942884",
   "environment_variables": {},
   "exception": null,
   "input_path": "__notebook__.ipynb",
   "output_path": "__notebook__.ipynb",
   "parameters": {},
   "start_time": "2025-04-29T21:05:55.858526",
   "version": "2.6.0"
  }
 },
 "nbformat": 4,
 "nbformat_minor": 5
}
