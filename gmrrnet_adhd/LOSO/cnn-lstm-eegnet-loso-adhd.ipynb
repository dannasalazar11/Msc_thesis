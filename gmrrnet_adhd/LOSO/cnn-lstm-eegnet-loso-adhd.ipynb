{
 "cells": [
  {
   "cell_type": "markdown",
   "id": "5148763a",
   "metadata": {
    "papermill": {
     "duration": 0.002461,
     "end_time": "2025-04-30T20:03:41.877517",
     "exception": false,
     "start_time": "2025-04-30T20:03:41.875056",
     "status": "completed"
    },
    "tags": []
   },
   "source": [
    "# Clonamos el repositorio con los modelos y herramientas"
   ]
  },
  {
   "cell_type": "code",
   "execution_count": 1,
   "id": "c381f094",
   "metadata": {
    "execution": {
     "iopub.execute_input": "2025-04-30T20:03:41.882925Z",
     "iopub.status.busy": "2025-04-30T20:03:41.882208Z",
     "iopub.status.idle": "2025-04-30T20:03:44.991821Z",
     "shell.execute_reply": "2025-04-30T20:03:44.991108Z"
    },
    "papermill": {
     "duration": 3.113541,
     "end_time": "2025-04-30T20:03:44.993200",
     "exception": false,
     "start_time": "2025-04-30T20:03:41.879659",
     "status": "completed"
    },
    "tags": []
   },
   "outputs": [
    {
     "name": "stdout",
     "output_type": "stream",
     "text": [
      "Cloning into 'Msc_thesis'...\r\n",
      "remote: Enumerating objects: 293, done.\u001b[K\r\n",
      "remote: Counting objects: 100% (121/121), done.\u001b[K\r\n",
      "remote: Compressing objects: 100% (95/95), done.\u001b[K\r\n",
      "remote: Total 293 (delta 78), reused 53 (delta 26), pack-reused 172 (from 1)\u001b[K\r\n",
      "Receiving objects: 100% (293/293), 49.92 MiB | 37.61 MiB/s, done.\r\n",
      "Resolving deltas: 100% (169/169), done.\r\n"
     ]
    }
   ],
   "source": [
    "!git clone https://github.com/dannasalazar11/Msc_thesis.git"
   ]
  },
  {
   "cell_type": "code",
   "execution_count": 2,
   "id": "e7318e51",
   "metadata": {
    "execution": {
     "iopub.execute_input": "2025-04-30T20:03:44.999593Z",
     "iopub.status.busy": "2025-04-30T20:03:44.999353Z",
     "iopub.status.idle": "2025-04-30T20:04:10.731922Z",
     "shell.execute_reply": "2025-04-30T20:04:10.731343Z"
    },
    "papermill": {
     "duration": 25.737161,
     "end_time": "2025-04-30T20:04:10.733283",
     "exception": false,
     "start_time": "2025-04-30T20:03:44.996122",
     "status": "completed"
    },
    "tags": []
   },
   "outputs": [
    {
     "name": "stderr",
     "output_type": "stream",
     "text": [
      "2025-04-30 20:03:51.690573: E external/local_xla/xla/stream_executor/cuda/cuda_fft.cc:477] Unable to register cuFFT factory: Attempting to register factory for plugin cuFFT when one has already been registered\n",
      "WARNING: All log messages before absl::InitializeLog() is called are written to STDERR\n",
      "E0000 00:00:1746043432.154978      19 cuda_dnn.cc:8310] Unable to register cuDNN factory: Attempting to register factory for plugin cuDNN when one has already been registered\n",
      "E0000 00:00:1746043432.286935      19 cuda_blas.cc:1418] Unable to register cuBLAS factory: Attempting to register factory for plugin cuBLAS when one has already been registered\n"
     ]
    }
   ],
   "source": [
    "import sys\n",
    "sys.path.append('/kaggle/working/Msc_thesis')\n",
    "\n",
    "from gmrrnet_adhd.utils import get_segmented_data, train_LOSO\n",
    "from tensorflow.keras.mixed_precision import set_global_policy\n",
    "set_global_policy('mixed_float16')\n",
    "\n",
    "\n",
    "import tensorflow as tf\n",
    "import numpy as np\n",
    "import random\n",
    "import os\n",
    "\n",
    "# Establecer semilla\n",
    "seed = 42\n",
    "\n",
    "# Semillas para módulos principales\n",
    "np.random.seed(seed)\n",
    "random.seed(seed)\n",
    "tf.random.set_seed(seed)"
   ]
  },
  {
   "cell_type": "markdown",
   "id": "ababbb6c",
   "metadata": {
    "papermill": {
     "duration": 0.002336,
     "end_time": "2025-04-30T20:04:10.738805",
     "exception": false,
     "start_time": "2025-04-30T20:04:10.736469",
     "status": "completed"
    },
    "tags": []
   },
   "source": [
    "# Importar base de datos segmentada (Segmentos de 4 seg con translape del 50%, es decir, de 2 seg)"
   ]
  },
  {
   "cell_type": "code",
   "execution_count": 3,
   "id": "d39a485e",
   "metadata": {
    "execution": {
     "iopub.execute_input": "2025-04-30T20:04:10.744931Z",
     "iopub.status.busy": "2025-04-30T20:04:10.744492Z",
     "iopub.status.idle": "2025-04-30T20:04:12.881227Z",
     "shell.execute_reply": "2025-04-30T20:04:12.880555Z"
    },
    "papermill": {
     "duration": 2.141325,
     "end_time": "2025-04-30T20:04:12.882542",
     "exception": false,
     "start_time": "2025-04-30T20:04:10.741217",
     "status": "completed"
    },
    "tags": []
   },
   "outputs": [
    {
     "data": {
      "text/plain": [
       "((8213, 19, 512), (8213, 2), 8213)"
      ]
     },
     "execution_count": 3,
     "metadata": {},
     "output_type": "execute_result"
    }
   ],
   "source": [
    "X, y, sbjs = get_segmented_data()\n",
    "X.shape, y.shape, len(sbjs)"
   ]
  },
  {
   "cell_type": "markdown",
   "id": "7e1e6965",
   "metadata": {
    "papermill": {
     "duration": 0.003811,
     "end_time": "2025-04-30T20:04:12.889340",
     "exception": false,
     "start_time": "2025-04-30T20:04:12.885529",
     "status": "completed"
    },
    "tags": []
   },
   "source": [
    "# Importamos el modelo y definimos los hiperparámetros"
   ]
  },
  {
   "cell_type": "code",
   "execution_count": 4,
   "id": "1cf10066",
   "metadata": {
    "execution": {
     "iopub.execute_input": "2025-04-30T20:04:12.895536Z",
     "iopub.status.busy": "2025-04-30T20:04:12.895250Z",
     "iopub.status.idle": "2025-04-30T20:04:17.626111Z",
     "shell.execute_reply": "2025-04-30T20:04:17.625531Z"
    },
    "papermill": {
     "duration": 4.735237,
     "end_time": "2025-04-30T20:04:17.627163",
     "exception": false,
     "start_time": "2025-04-30T20:04:12.891926",
     "status": "completed"
    },
    "tags": []
   },
   "outputs": [
    {
     "name": "stderr",
     "output_type": "stream",
     "text": [
      "I0000 00:00:1746043455.647800      19 gpu_device.cc:2022] Created device /job:localhost/replica:0/task:0/device:GPU:0 with 13942 MB memory:  -> device: 0, name: Tesla T4, pci bus id: 0000:00:04.0, compute capability: 7.5\n",
      "I0000 00:00:1746043455.648566      19 gpu_device.cc:2022] Created device /job:localhost/replica:0/task:0/device:GPU:1 with 13942 MB memory:  -> device: 1, name: Tesla T4, pci bus id: 0000:00:05.0, compute capability: 7.5\n"
     ]
    },
    {
     "data": {
      "text/html": [
       "<pre style=\"white-space:pre;overflow-x:auto;line-height:normal;font-family:Menlo,'DejaVu Sans Mono',consolas,'Courier New',monospace\"><span style=\"font-weight: bold\">Model: \"cnn_lstm_eegnet\"</span>\n",
       "</pre>\n"
      ],
      "text/plain": [
       "\u001b[1mModel: \"cnn_lstm_eegnet\"\u001b[0m\n"
      ]
     },
     "metadata": {},
     "output_type": "display_data"
    },
    {
     "data": {
      "text/html": [
       "<pre style=\"white-space:pre;overflow-x:auto;line-height:normal;font-family:Menlo,'DejaVu Sans Mono',consolas,'Courier New',monospace\">┏━━━━━━━━━━━━━━━━━━━━━━━━━━━┳━━━━━━━━━━━━━━━━━━━━━━━━┳━━━━━━━━━━━━━━━━┳━━━━━━━━━━━━━━━━━━━━━━━━┓\n",
       "┃<span style=\"font-weight: bold\"> Layer (type)              </span>┃<span style=\"font-weight: bold\"> Output Shape           </span>┃<span style=\"font-weight: bold\">        Param # </span>┃<span style=\"font-weight: bold\"> Connected to           </span>┃\n",
       "┡━━━━━━━━━━━━━━━━━━━━━━━━━━━╇━━━━━━━━━━━━━━━━━━━━━━━━╇━━━━━━━━━━━━━━━━╇━━━━━━━━━━━━━━━━━━━━━━━━┩\n",
       "│ input_layer (<span style=\"color: #0087ff; text-decoration-color: #0087ff\">InputLayer</span>)  │ (<span style=\"color: #00d7ff; text-decoration-color: #00d7ff\">None</span>, <span style=\"color: #00af00; text-decoration-color: #00af00\">19</span>, <span style=\"color: #00af00; text-decoration-color: #00af00\">512</span>, <span style=\"color: #00af00; text-decoration-color: #00af00\">1</span>)     │              <span style=\"color: #00af00; text-decoration-color: #00af00\">0</span> │ -                      │\n",
       "├───────────────────────────┼────────────────────────┼────────────────┼────────────────────────┤\n",
       "│ cast (<span style=\"color: #0087ff; text-decoration-color: #0087ff\">Cast</span>)               │ (<span style=\"color: #00d7ff; text-decoration-color: #00d7ff\">None</span>, <span style=\"color: #00af00; text-decoration-color: #00af00\">19</span>, <span style=\"color: #00af00; text-decoration-color: #00af00\">512</span>, <span style=\"color: #00af00; text-decoration-color: #00af00\">1</span>)     │              <span style=\"color: #00af00; text-decoration-color: #00af00\">0</span> │ input_layer[<span style=\"color: #00af00; text-decoration-color: #00af00\">0</span>][<span style=\"color: #00af00; text-decoration-color: #00af00\">0</span>]      │\n",
       "├───────────────────────────┼────────────────────────┼────────────────┼────────────────────────┤\n",
       "│ conv2d (<span style=\"color: #0087ff; text-decoration-color: #0087ff\">Conv2D</span>)           │ (<span style=\"color: #00d7ff; text-decoration-color: #00d7ff\">None</span>, <span style=\"color: #00af00; text-decoration-color: #00af00\">19</span>, <span style=\"color: #00af00; text-decoration-color: #00af00\">512</span>, <span style=\"color: #00af00; text-decoration-color: #00af00\">50</span>)    │          <span style=\"color: #00af00; text-decoration-color: #00af00\">1,250</span> │ cast[<span style=\"color: #00af00; text-decoration-color: #00af00\">0</span>][<span style=\"color: #00af00; text-decoration-color: #00af00\">0</span>]             │\n",
       "├───────────────────────────┼────────────────────────┼────────────────┼────────────────────────┤\n",
       "│ batch_normalization       │ (<span style=\"color: #00d7ff; text-decoration-color: #00d7ff\">None</span>, <span style=\"color: #00af00; text-decoration-color: #00af00\">19</span>, <span style=\"color: #00af00; text-decoration-color: #00af00\">512</span>, <span style=\"color: #00af00; text-decoration-color: #00af00\">50</span>)    │            <span style=\"color: #00af00; text-decoration-color: #00af00\">200</span> │ conv2d[<span style=\"color: #00af00; text-decoration-color: #00af00\">0</span>][<span style=\"color: #00af00; text-decoration-color: #00af00\">0</span>]           │\n",
       "│ (<span style=\"color: #0087ff; text-decoration-color: #0087ff\">BatchNormalization</span>)      │                        │                │                        │\n",
       "├───────────────────────────┼────────────────────────┼────────────────┼────────────────────────┤\n",
       "│ activation (<span style=\"color: #0087ff; text-decoration-color: #0087ff\">Activation</span>)   │ (<span style=\"color: #00d7ff; text-decoration-color: #00d7ff\">None</span>, <span style=\"color: #00af00; text-decoration-color: #00af00\">1</span>, <span style=\"color: #00af00; text-decoration-color: #00af00\">512</span>, <span style=\"color: #00af00; text-decoration-color: #00af00\">100</span>)    │              <span style=\"color: #00af00; text-decoration-color: #00af00\">0</span> │ batch_normalization[<span style=\"color: #00af00; text-decoration-color: #00af00\">0</span>… │\n",
       "│                           │                        │                │ batch_normalization_1… │\n",
       "├───────────────────────────┼────────────────────────┼────────────────┼────────────────────────┤\n",
       "│ depthwise_conv2d          │ (<span style=\"color: #00d7ff; text-decoration-color: #00d7ff\">None</span>, <span style=\"color: #00af00; text-decoration-color: #00af00\">1</span>, <span style=\"color: #00af00; text-decoration-color: #00af00\">512</span>, <span style=\"color: #00af00; text-decoration-color: #00af00\">100</span>)    │          <span style=\"color: #00af00; text-decoration-color: #00af00\">1,900</span> │ activation[<span style=\"color: #00af00; text-decoration-color: #00af00\">0</span>][<span style=\"color: #00af00; text-decoration-color: #00af00\">0</span>]       │\n",
       "│ (<span style=\"color: #0087ff; text-decoration-color: #0087ff\">DepthwiseConv2D</span>)         │                        │                │                        │\n",
       "├───────────────────────────┼────────────────────────┼────────────────┼────────────────────────┤\n",
       "│ batch_normalization_1     │ (<span style=\"color: #00d7ff; text-decoration-color: #00d7ff\">None</span>, <span style=\"color: #00af00; text-decoration-color: #00af00\">1</span>, <span style=\"color: #00af00; text-decoration-color: #00af00\">512</span>, <span style=\"color: #00af00; text-decoration-color: #00af00\">100</span>)    │            <span style=\"color: #00af00; text-decoration-color: #00af00\">400</span> │ depthwise_conv2d[<span style=\"color: #00af00; text-decoration-color: #00af00\">0</span>][<span style=\"color: #00af00; text-decoration-color: #00af00\">0</span>] │\n",
       "│ (<span style=\"color: #0087ff; text-decoration-color: #0087ff\">BatchNormalization</span>)      │                        │                │                        │\n",
       "├───────────────────────────┼────────────────────────┼────────────────┼────────────────────────┤\n",
       "│ average_pooling2d         │ (<span style=\"color: #00d7ff; text-decoration-color: #00d7ff\">None</span>, <span style=\"color: #00af00; text-decoration-color: #00af00\">1</span>, <span style=\"color: #00af00; text-decoration-color: #00af00\">50</span>, <span style=\"color: #00af00; text-decoration-color: #00af00\">100</span>)     │              <span style=\"color: #00af00; text-decoration-color: #00af00\">0</span> │ activation[<span style=\"color: #00af00; text-decoration-color: #00af00\">1</span>][<span style=\"color: #00af00; text-decoration-color: #00af00\">0</span>]       │\n",
       "│ (<span style=\"color: #0087ff; text-decoration-color: #0087ff\">AveragePooling2D</span>)        │                        │                │                        │\n",
       "├───────────────────────────┼────────────────────────┼────────────────┼────────────────────────┤\n",
       "│ dropout (<span style=\"color: #0087ff; text-decoration-color: #0087ff\">Dropout</span>)         │ (<span style=\"color: #00d7ff; text-decoration-color: #00d7ff\">None</span>, <span style=\"color: #00af00; text-decoration-color: #00af00\">1</span>, <span style=\"color: #00af00; text-decoration-color: #00af00\">50</span>, <span style=\"color: #00af00; text-decoration-color: #00af00\">100</span>)     │              <span style=\"color: #00af00; text-decoration-color: #00af00\">0</span> │ average_pooling2d[<span style=\"color: #00af00; text-decoration-color: #00af00\">0</span>][<span style=\"color: #00af00; text-decoration-color: #00af00\">…</span> │\n",
       "├───────────────────────────┼────────────────────────┼────────────────┼────────────────────────┤\n",
       "│ permute (<span style=\"color: #0087ff; text-decoration-color: #0087ff\">Permute</span>)         │ (<span style=\"color: #00d7ff; text-decoration-color: #00d7ff\">None</span>, <span style=\"color: #00af00; text-decoration-color: #00af00\">50</span>, <span style=\"color: #00af00; text-decoration-color: #00af00\">1</span>, <span style=\"color: #00af00; text-decoration-color: #00af00\">100</span>)     │              <span style=\"color: #00af00; text-decoration-color: #00af00\">0</span> │ dropout[<span style=\"color: #00af00; text-decoration-color: #00af00\">0</span>][<span style=\"color: #00af00; text-decoration-color: #00af00\">0</span>]          │\n",
       "├───────────────────────────┼────────────────────────┼────────────────┼────────────────────────┤\n",
       "│ time_distributed          │ (<span style=\"color: #00d7ff; text-decoration-color: #00d7ff\">None</span>, <span style=\"color: #00af00; text-decoration-color: #00af00\">50</span>, <span style=\"color: #00af00; text-decoration-color: #00af00\">100</span>)        │              <span style=\"color: #00af00; text-decoration-color: #00af00\">0</span> │ permute[<span style=\"color: #00af00; text-decoration-color: #00af00\">0</span>][<span style=\"color: #00af00; text-decoration-color: #00af00\">0</span>]          │\n",
       "│ (<span style=\"color: #0087ff; text-decoration-color: #0087ff\">TimeDistributed</span>)         │                        │                │                        │\n",
       "├───────────────────────────┼────────────────────────┼────────────────┼────────────────────────┤\n",
       "│ lstm (<span style=\"color: #0087ff; text-decoration-color: #0087ff\">LSTM</span>)               │ (<span style=\"color: #00d7ff; text-decoration-color: #00d7ff\">None</span>, <span style=\"color: #00af00; text-decoration-color: #00af00\">50</span>, <span style=\"color: #00af00; text-decoration-color: #00af00\">10</span>)         │          <span style=\"color: #00af00; text-decoration-color: #00af00\">4,440</span> │ time_distributed[<span style=\"color: #00af00; text-decoration-color: #00af00\">0</span>][<span style=\"color: #00af00; text-decoration-color: #00af00\">0</span>] │\n",
       "├───────────────────────────┼────────────────────────┼────────────────┼────────────────────────┤\n",
       "│ lstm_1 (<span style=\"color: #0087ff; text-decoration-color: #0087ff\">LSTM</span>)             │ (<span style=\"color: #00d7ff; text-decoration-color: #00d7ff\">None</span>, <span style=\"color: #00af00; text-decoration-color: #00af00\">10</span>)             │            <span style=\"color: #00af00; text-decoration-color: #00af00\">840</span> │ lstm[<span style=\"color: #00af00; text-decoration-color: #00af00\">0</span>][<span style=\"color: #00af00; text-decoration-color: #00af00\">0</span>]             │\n",
       "├───────────────────────────┼────────────────────────┼────────────────┼────────────────────────┤\n",
       "│ dense (<span style=\"color: #0087ff; text-decoration-color: #0087ff\">Dense</span>)             │ (<span style=\"color: #00d7ff; text-decoration-color: #00d7ff\">None</span>, <span style=\"color: #00af00; text-decoration-color: #00af00\">2</span>)              │             <span style=\"color: #00af00; text-decoration-color: #00af00\">22</span> │ lstm_1[<span style=\"color: #00af00; text-decoration-color: #00af00\">0</span>][<span style=\"color: #00af00; text-decoration-color: #00af00\">0</span>]           │\n",
       "└───────────────────────────┴────────────────────────┴────────────────┴────────────────────────┘\n",
       "</pre>\n"
      ],
      "text/plain": [
       "┏━━━━━━━━━━━━━━━━━━━━━━━━━━━┳━━━━━━━━━━━━━━━━━━━━━━━━┳━━━━━━━━━━━━━━━━┳━━━━━━━━━━━━━━━━━━━━━━━━┓\n",
       "┃\u001b[1m \u001b[0m\u001b[1mLayer (type)             \u001b[0m\u001b[1m \u001b[0m┃\u001b[1m \u001b[0m\u001b[1mOutput Shape          \u001b[0m\u001b[1m \u001b[0m┃\u001b[1m \u001b[0m\u001b[1m       Param #\u001b[0m\u001b[1m \u001b[0m┃\u001b[1m \u001b[0m\u001b[1mConnected to          \u001b[0m\u001b[1m \u001b[0m┃\n",
       "┡━━━━━━━━━━━━━━━━━━━━━━━━━━━╇━━━━━━━━━━━━━━━━━━━━━━━━╇━━━━━━━━━━━━━━━━╇━━━━━━━━━━━━━━━━━━━━━━━━┩\n",
       "│ input_layer (\u001b[38;5;33mInputLayer\u001b[0m)  │ (\u001b[38;5;45mNone\u001b[0m, \u001b[38;5;34m19\u001b[0m, \u001b[38;5;34m512\u001b[0m, \u001b[38;5;34m1\u001b[0m)     │              \u001b[38;5;34m0\u001b[0m │ -                      │\n",
       "├───────────────────────────┼────────────────────────┼────────────────┼────────────────────────┤\n",
       "│ cast (\u001b[38;5;33mCast\u001b[0m)               │ (\u001b[38;5;45mNone\u001b[0m, \u001b[38;5;34m19\u001b[0m, \u001b[38;5;34m512\u001b[0m, \u001b[38;5;34m1\u001b[0m)     │              \u001b[38;5;34m0\u001b[0m │ input_layer[\u001b[38;5;34m0\u001b[0m][\u001b[38;5;34m0\u001b[0m]      │\n",
       "├───────────────────────────┼────────────────────────┼────────────────┼────────────────────────┤\n",
       "│ conv2d (\u001b[38;5;33mConv2D\u001b[0m)           │ (\u001b[38;5;45mNone\u001b[0m, \u001b[38;5;34m19\u001b[0m, \u001b[38;5;34m512\u001b[0m, \u001b[38;5;34m50\u001b[0m)    │          \u001b[38;5;34m1,250\u001b[0m │ cast[\u001b[38;5;34m0\u001b[0m][\u001b[38;5;34m0\u001b[0m]             │\n",
       "├───────────────────────────┼────────────────────────┼────────────────┼────────────────────────┤\n",
       "│ batch_normalization       │ (\u001b[38;5;45mNone\u001b[0m, \u001b[38;5;34m19\u001b[0m, \u001b[38;5;34m512\u001b[0m, \u001b[38;5;34m50\u001b[0m)    │            \u001b[38;5;34m200\u001b[0m │ conv2d[\u001b[38;5;34m0\u001b[0m][\u001b[38;5;34m0\u001b[0m]           │\n",
       "│ (\u001b[38;5;33mBatchNormalization\u001b[0m)      │                        │                │                        │\n",
       "├───────────────────────────┼────────────────────────┼────────────────┼────────────────────────┤\n",
       "│ activation (\u001b[38;5;33mActivation\u001b[0m)   │ (\u001b[38;5;45mNone\u001b[0m, \u001b[38;5;34m1\u001b[0m, \u001b[38;5;34m512\u001b[0m, \u001b[38;5;34m100\u001b[0m)    │              \u001b[38;5;34m0\u001b[0m │ batch_normalization[\u001b[38;5;34m0\u001b[0m… │\n",
       "│                           │                        │                │ batch_normalization_1… │\n",
       "├───────────────────────────┼────────────────────────┼────────────────┼────────────────────────┤\n",
       "│ depthwise_conv2d          │ (\u001b[38;5;45mNone\u001b[0m, \u001b[38;5;34m1\u001b[0m, \u001b[38;5;34m512\u001b[0m, \u001b[38;5;34m100\u001b[0m)    │          \u001b[38;5;34m1,900\u001b[0m │ activation[\u001b[38;5;34m0\u001b[0m][\u001b[38;5;34m0\u001b[0m]       │\n",
       "│ (\u001b[38;5;33mDepthwiseConv2D\u001b[0m)         │                        │                │                        │\n",
       "├───────────────────────────┼────────────────────────┼────────────────┼────────────────────────┤\n",
       "│ batch_normalization_1     │ (\u001b[38;5;45mNone\u001b[0m, \u001b[38;5;34m1\u001b[0m, \u001b[38;5;34m512\u001b[0m, \u001b[38;5;34m100\u001b[0m)    │            \u001b[38;5;34m400\u001b[0m │ depthwise_conv2d[\u001b[38;5;34m0\u001b[0m][\u001b[38;5;34m0\u001b[0m] │\n",
       "│ (\u001b[38;5;33mBatchNormalization\u001b[0m)      │                        │                │                        │\n",
       "├───────────────────────────┼────────────────────────┼────────────────┼────────────────────────┤\n",
       "│ average_pooling2d         │ (\u001b[38;5;45mNone\u001b[0m, \u001b[38;5;34m1\u001b[0m, \u001b[38;5;34m50\u001b[0m, \u001b[38;5;34m100\u001b[0m)     │              \u001b[38;5;34m0\u001b[0m │ activation[\u001b[38;5;34m1\u001b[0m][\u001b[38;5;34m0\u001b[0m]       │\n",
       "│ (\u001b[38;5;33mAveragePooling2D\u001b[0m)        │                        │                │                        │\n",
       "├───────────────────────────┼────────────────────────┼────────────────┼────────────────────────┤\n",
       "│ dropout (\u001b[38;5;33mDropout\u001b[0m)         │ (\u001b[38;5;45mNone\u001b[0m, \u001b[38;5;34m1\u001b[0m, \u001b[38;5;34m50\u001b[0m, \u001b[38;5;34m100\u001b[0m)     │              \u001b[38;5;34m0\u001b[0m │ average_pooling2d[\u001b[38;5;34m0\u001b[0m][\u001b[38;5;34m…\u001b[0m │\n",
       "├───────────────────────────┼────────────────────────┼────────────────┼────────────────────────┤\n",
       "│ permute (\u001b[38;5;33mPermute\u001b[0m)         │ (\u001b[38;5;45mNone\u001b[0m, \u001b[38;5;34m50\u001b[0m, \u001b[38;5;34m1\u001b[0m, \u001b[38;5;34m100\u001b[0m)     │              \u001b[38;5;34m0\u001b[0m │ dropout[\u001b[38;5;34m0\u001b[0m][\u001b[38;5;34m0\u001b[0m]          │\n",
       "├───────────────────────────┼────────────────────────┼────────────────┼────────────────────────┤\n",
       "│ time_distributed          │ (\u001b[38;5;45mNone\u001b[0m, \u001b[38;5;34m50\u001b[0m, \u001b[38;5;34m100\u001b[0m)        │              \u001b[38;5;34m0\u001b[0m │ permute[\u001b[38;5;34m0\u001b[0m][\u001b[38;5;34m0\u001b[0m]          │\n",
       "│ (\u001b[38;5;33mTimeDistributed\u001b[0m)         │                        │                │                        │\n",
       "├───────────────────────────┼────────────────────────┼────────────────┼────────────────────────┤\n",
       "│ lstm (\u001b[38;5;33mLSTM\u001b[0m)               │ (\u001b[38;5;45mNone\u001b[0m, \u001b[38;5;34m50\u001b[0m, \u001b[38;5;34m10\u001b[0m)         │          \u001b[38;5;34m4,440\u001b[0m │ time_distributed[\u001b[38;5;34m0\u001b[0m][\u001b[38;5;34m0\u001b[0m] │\n",
       "├───────────────────────────┼────────────────────────┼────────────────┼────────────────────────┤\n",
       "│ lstm_1 (\u001b[38;5;33mLSTM\u001b[0m)             │ (\u001b[38;5;45mNone\u001b[0m, \u001b[38;5;34m10\u001b[0m)             │            \u001b[38;5;34m840\u001b[0m │ lstm[\u001b[38;5;34m0\u001b[0m][\u001b[38;5;34m0\u001b[0m]             │\n",
       "├───────────────────────────┼────────────────────────┼────────────────┼────────────────────────┤\n",
       "│ dense (\u001b[38;5;33mDense\u001b[0m)             │ (\u001b[38;5;45mNone\u001b[0m, \u001b[38;5;34m2\u001b[0m)              │             \u001b[38;5;34m22\u001b[0m │ lstm_1[\u001b[38;5;34m0\u001b[0m][\u001b[38;5;34m0\u001b[0m]           │\n",
       "└───────────────────────────┴────────────────────────┴────────────────┴────────────────────────┘\n"
      ]
     },
     "metadata": {},
     "output_type": "display_data"
    },
    {
     "data": {
      "text/html": [
       "<pre style=\"white-space:pre;overflow-x:auto;line-height:normal;font-family:Menlo,'DejaVu Sans Mono',consolas,'Courier New',monospace\"><span style=\"font-weight: bold\"> Total params: </span><span style=\"color: #00af00; text-decoration-color: #00af00\">9,052</span> (35.36 KB)\n",
       "</pre>\n"
      ],
      "text/plain": [
       "\u001b[1m Total params: \u001b[0m\u001b[38;5;34m9,052\u001b[0m (35.36 KB)\n"
      ]
     },
     "metadata": {},
     "output_type": "display_data"
    },
    {
     "data": {
      "text/html": [
       "<pre style=\"white-space:pre;overflow-x:auto;line-height:normal;font-family:Menlo,'DejaVu Sans Mono',consolas,'Courier New',monospace\"><span style=\"font-weight: bold\"> Trainable params: </span><span style=\"color: #00af00; text-decoration-color: #00af00\">8,752</span> (34.19 KB)\n",
       "</pre>\n"
      ],
      "text/plain": [
       "\u001b[1m Trainable params: \u001b[0m\u001b[38;5;34m8,752\u001b[0m (34.19 KB)\n"
      ]
     },
     "metadata": {},
     "output_type": "display_data"
    },
    {
     "data": {
      "text/html": [
       "<pre style=\"white-space:pre;overflow-x:auto;line-height:normal;font-family:Menlo,'DejaVu Sans Mono',consolas,'Courier New',monospace\"><span style=\"font-weight: bold\"> Non-trainable params: </span><span style=\"color: #00af00; text-decoration-color: #00af00\">300</span> (1.17 KB)\n",
       "</pre>\n"
      ],
      "text/plain": [
       "\u001b[1m Non-trainable params: \u001b[0m\u001b[38;5;34m300\u001b[0m (1.17 KB)\n"
      ]
     },
     "metadata": {},
     "output_type": "display_data"
    }
   ],
   "source": [
    "from tensorflow.keras.losses import CategoricalCrossentropy, MeanSquaredError\n",
    "from tensorflow.keras.optimizers import Adam\n",
    "from gmrrnet_adhd.models.cnn_lstm_eegnet import cnn_lstm_eegnet\n",
    "\n",
    "model_name = 'CNN_LSTM_EEGNet'\n",
    "model_args = {\n",
    "    \"n_channels\": 19,      # EEG electrodes\n",
    "    \"n_times\": 512,        # time points per trial\n",
    "    \"n_classes\": 2,        # binary task\n",
    "    \"temporal_kernel\": 25, # ≈200 ms at 128 Hz\n",
    "    \"pool_size\": 20,\n",
    "    \"pool_stride\": 10\n",
    "}\n",
    "\n",
    "compile_args = {\n",
    "    'loss': CategoricalCrossentropy(),\n",
    "    'optimizer': lambda: Adam(1e-3),  # función que retorna un nuevo optimizador\n",
    "    'metrics': ['categorical_accuracy']\n",
    "}\n",
    "\n",
    "\n",
    "model = cnn_lstm_eegnet(**model_args)\n",
    "\n",
    "model.summary()"
   ]
  },
  {
   "cell_type": "markdown",
   "id": "3876a2be",
   "metadata": {
    "papermill": {
     "duration": 0.003607,
     "end_time": "2025-04-30T20:04:17.634347",
     "exception": false,
     "start_time": "2025-04-30T20:04:17.630740",
     "status": "completed"
    },
    "tags": []
   },
   "source": [
    "# Resultados - Leave One Subject Out"
   ]
  },
  {
   "cell_type": "code",
   "execution_count": 5,
   "id": "8d58450c",
   "metadata": {
    "execution": {
     "iopub.execute_input": "2025-04-30T20:04:17.641347Z",
     "iopub.status.busy": "2025-04-30T20:04:17.641086Z",
     "iopub.status.idle": "2025-04-30T22:27:47.113998Z",
     "shell.execute_reply": "2025-04-30T22:27:47.112915Z"
    },
    "papermill": {
     "duration": 8609.477675,
     "end_time": "2025-04-30T22:27:47.115224",
     "exception": false,
     "start_time": "2025-04-30T20:04:17.637549",
     "status": "completed"
    },
    "tags": []
   },
   "outputs": [
    {
     "name": "stdout",
     "output_type": "stream",
     "text": [
      "Evaluando modelo para el sujeto #61: v250\n"
     ]
    },
    {
     "name": "stderr",
     "output_type": "stream",
     "text": [
      "I0000 00:00:1746043465.591948      73 cuda_dnn.cc:529] Loaded cuDNN version 90300\n"
     ]
    },
    {
     "name": "stdout",
     "output_type": "stream",
     "text": [
      "\u001b[1m2/2\u001b[0m \u001b[32m━━━━━━━━━━━━━━━━━━━━\u001b[0m\u001b[37m\u001b[0m \u001b[1m1s\u001b[0m 689ms/step\n",
      "Métricas para v250: {'accuracy': 1.0}\n",
      "\n",
      "Evaluando modelo para el sujeto #62: v254\n",
      "\u001b[1m2/2\u001b[0m \u001b[32m━━━━━━━━━━━━━━━━━━━━\u001b[0m\u001b[37m\u001b[0m \u001b[1m2s\u001b[0m 673ms/step\n",
      "Métricas para v254: {'accuracy': 1.0}\n",
      "\n",
      "Evaluando modelo para el sujeto #63: v25p\n",
      "\u001b[1m2/2\u001b[0m \u001b[32m━━━━━━━━━━━━━━━━━━━━\u001b[0m\u001b[37m\u001b[0m \u001b[1m2s\u001b[0m 657ms/step\n",
      "Métricas para v25p: {'accuracy': 1.0}\n",
      "\n",
      "Evaluando modelo para el sujeto #64: v263\n",
      "\u001b[1m3/3\u001b[0m \u001b[32m━━━━━━━━━━━━━━━━━━━━\u001b[0m\u001b[37m\u001b[0m \u001b[1m2s\u001b[0m 333ms/step\n",
      "Métricas para v263: {'accuracy': 1.0}\n",
      "\n",
      "Evaluando modelo para el sujeto #65: v265\n",
      "\u001b[1m3/3\u001b[0m \u001b[32m━━━━━━━━━━━━━━━━━━━━\u001b[0m\u001b[37m\u001b[0m \u001b[1m2s\u001b[0m 524ms/step\n",
      "Métricas para v265: {'accuracy': 1.0}\n",
      "\n",
      "Evaluando modelo para el sujeto #66: v270\n",
      "\u001b[1m3/3\u001b[0m \u001b[32m━━━━━━━━━━━━━━━━━━━━\u001b[0m\u001b[37m\u001b[0m \u001b[1m1s\u001b[0m 340ms/step\n",
      "Métricas para v270: {'accuracy': 1.0}\n",
      "\n",
      "Evaluando modelo para el sujeto #67: v274\n",
      "\u001b[1m3/3\u001b[0m \u001b[32m━━━━━━━━━━━━━━━━━━━━\u001b[0m\u001b[37m\u001b[0m \u001b[1m1s\u001b[0m 330ms/step\n",
      "Métricas para v274: {'accuracy': 1.0}\n",
      "\n",
      "Evaluando modelo para el sujeto #68: v279\n",
      "\u001b[1m3/3\u001b[0m \u001b[32m━━━━━━━━━━━━━━━━━━━━\u001b[0m\u001b[37m\u001b[0m \u001b[1m2s\u001b[0m 562ms/step\n",
      "Métricas para v279: {'accuracy': 1.0}\n",
      "\n",
      "Evaluando modelo para el sujeto #69: v27p\n",
      "\u001b[1m4/4\u001b[0m \u001b[32m━━━━━━━━━━━━━━━━━━━━\u001b[0m\u001b[37m\u001b[0m \u001b[1m1s\u001b[0m 226ms/step\n",
      "Métricas para v27p: {'accuracy': 1.0}\n",
      "\n",
      "Evaluando modelo para el sujeto #70: v284\n",
      "\u001b[1m2/2\u001b[0m \u001b[32m━━━━━━━━━━━━━━━━━━━━\u001b[0m\u001b[37m\u001b[0m \u001b[1m2s\u001b[0m 1s/step\n",
      "Métricas para v284: {'accuracy': 1.0}\n",
      "\n",
      "Evaluando modelo para el sujeto #71: v286\n",
      "\u001b[1m2/2\u001b[0m \u001b[32m━━━━━━━━━━━━━━━━━━━━\u001b[0m\u001b[37m\u001b[0m \u001b[1m1s\u001b[0m 661ms/step\n",
      "Métricas para v286: {'accuracy': 1.0}\n",
      "\n",
      "Evaluando modelo para el sujeto #72: v288\n",
      "\u001b[1m3/3\u001b[0m \u001b[32m━━━━━━━━━━━━━━━━━━━━\u001b[0m\u001b[37m\u001b[0m \u001b[1m1s\u001b[0m 329ms/step\n",
      "Métricas para v288: {'accuracy': 1.0}\n",
      "\n",
      "Evaluando modelo para el sujeto #73: v28p\n",
      "\u001b[1m4/4\u001b[0m \u001b[32m━━━━━━━━━━━━━━━━━━━━\u001b[0m\u001b[37m\u001b[0m \u001b[1m1s\u001b[0m 222ms/step\n",
      "Métricas para v28p: {'accuracy': 0.14150943396226415}\n",
      "\n",
      "Evaluando modelo para el sujeto #74: v297\n",
      "\u001b[1m2/2\u001b[0m \u001b[32m━━━━━━━━━━━━━━━━━━━━\u001b[0m\u001b[37m\u001b[0m \u001b[1m2s\u001b[0m 700ms/step\n",
      "Métricas para v297: {'accuracy': 0.3076923076923077}\n",
      "\n",
      "Evaluando modelo para el sujeto #75: v298\n",
      "\u001b[1m3/3\u001b[0m \u001b[32m━━━━━━━━━━━━━━━━━━━━\u001b[0m\u001b[37m\u001b[0m \u001b[1m1s\u001b[0m 327ms/step\n",
      "Métricas para v298: {'accuracy': 1.0}\n",
      "\n",
      "Evaluando modelo para el sujeto #76: v299\n",
      "\u001b[1m3/3\u001b[0m \u001b[32m━━━━━━━━━━━━━━━━━━━━\u001b[0m\u001b[37m\u001b[0m \u001b[1m1s\u001b[0m 326ms/step\n",
      "Métricas para v299: {'accuracy': 1.0}\n",
      "\n",
      "Evaluando modelo para el sujeto #77: v29p\n",
      "\u001b[1m3/3\u001b[0m \u001b[32m━━━━━━━━━━━━━━━━━━━━\u001b[0m\u001b[37m\u001b[0m \u001b[1m1s\u001b[0m 348ms/step\n",
      "Métricas para v29p: {'accuracy': 1.0}\n",
      "\n",
      "Evaluando modelo para el sujeto #78: v300\n",
      "\u001b[1m4/4\u001b[0m \u001b[32m━━━━━━━━━━━━━━━━━━━━\u001b[0m\u001b[37m\u001b[0m \u001b[1m1s\u001b[0m 218ms/step\n",
      "Métricas para v300: {'accuracy': 0.97}\n",
      "\n",
      "Evaluando modelo para el sujeto #79: v302\n",
      "\u001b[1m3/3\u001b[0m \u001b[32m━━━━━━━━━━━━━━━━━━━━\u001b[0m\u001b[37m\u001b[0m \u001b[1m1s\u001b[0m 351ms/step\n",
      "Métricas para v302: {'accuracy': 1.0}\n",
      "\n",
      "Evaluando modelo para el sujeto #80: v303\n",
      "\u001b[1m3/3\u001b[0m \u001b[32m━━━━━━━━━━━━━━━━━━━━\u001b[0m\u001b[37m\u001b[0m \u001b[1m1s\u001b[0m 326ms/step\n",
      "Métricas para v303: {'accuracy': 1.0}\n",
      "\n",
      "Evaluando modelo para el sujeto #81: v304\n",
      "\u001b[1m2/2\u001b[0m \u001b[32m━━━━━━━━━━━━━━━━━━━━\u001b[0m\u001b[37m\u001b[0m \u001b[1m1s\u001b[0m 675ms/step\n",
      "Métricas para v304: {'accuracy': 1.0}\n",
      "\n",
      "Evaluando modelo para el sujeto #82: v305\n",
      "\u001b[1m3/3\u001b[0m \u001b[32m━━━━━━━━━━━━━━━━━━━━\u001b[0m\u001b[37m\u001b[0m \u001b[1m1s\u001b[0m 349ms/step\n",
      "Métricas para v305: {'accuracy': 1.0}\n",
      "\n",
      "Evaluando modelo para el sujeto #83: v306\n",
      "\u001b[1m3/3\u001b[0m \u001b[32m━━━━━━━━━━━━━━━━━━━━\u001b[0m\u001b[37m\u001b[0m \u001b[1m1s\u001b[0m 322ms/step\n",
      "Métricas para v306: {'accuracy': 1.0}\n",
      "\n",
      "Evaluando modelo para el sujeto #84: v307\n",
      "\u001b[1m3/3\u001b[0m \u001b[32m━━━━━━━━━━━━━━━━━━━━\u001b[0m\u001b[37m\u001b[0m \u001b[1m1s\u001b[0m 341ms/step\n",
      "Métricas para v307: {'accuracy': 1.0}\n",
      "\n",
      "Evaluando modelo para el sujeto #85: v308\n",
      "\u001b[1m3/3\u001b[0m \u001b[32m━━━━━━━━━━━━━━━━━━━━\u001b[0m\u001b[37m\u001b[0m \u001b[1m1s\u001b[0m 325ms/step\n",
      "Métricas para v308: {'accuracy': 0.15384615384615385}\n",
      "\n",
      "Evaluando modelo para el sujeto #86: v309\n",
      "\u001b[1m3/3\u001b[0m \u001b[32m━━━━━━━━━━━━━━━━━━━━\u001b[0m\u001b[37m\u001b[0m \u001b[1m1s\u001b[0m 369ms/step\n",
      "Métricas para v309: {'accuracy': 1.0}\n",
      "\n",
      "Evaluando modelo para el sujeto #87: v30p\n",
      "\u001b[1m3/3\u001b[0m \u001b[32m━━━━━━━━━━━━━━━━━━━━\u001b[0m\u001b[37m\u001b[0m \u001b[1m1s\u001b[0m 325ms/step\n",
      "Métricas para v30p: {'accuracy': 1.0}\n",
      "\n",
      "Evaluando modelo para el sujeto #88: v310\n",
      "\u001b[1m3/3\u001b[0m \u001b[32m━━━━━━━━━━━━━━━━━━━━\u001b[0m\u001b[37m\u001b[0m \u001b[1m2s\u001b[0m 897ms/step\n",
      "Métricas para v310: {'accuracy': 1.0}\n",
      "\n",
      "Evaluando modelo para el sujeto #89: v31p\n",
      "\u001b[1m2/2\u001b[0m \u001b[32m━━━━━━━━━━━━━━━━━━━━\u001b[0m\u001b[37m\u001b[0m \u001b[1m1s\u001b[0m 664ms/step\n",
      "Métricas para v31p: {'accuracy': 1.0}\n",
      "\n",
      "Evaluando modelo para el sujeto #90: v32p\n",
      "\u001b[1m3/3\u001b[0m \u001b[32m━━━━━━━━━━━━━━━━━━━━\u001b[0m\u001b[37m\u001b[0m \u001b[1m1s\u001b[0m 333ms/step\n",
      "Métricas para v32p: {'accuracy': 1.0}\n",
      "\n",
      "Evaluando modelo para el sujeto #91: v33p\n",
      "\u001b[1m4/4\u001b[0m \u001b[32m━━━━━━━━━━━━━━━━━━━━\u001b[0m\u001b[37m\u001b[0m \u001b[1m1s\u001b[0m 228ms/step\n",
      "Métricas para v33p: {'accuracy': 1.0}\n",
      "\n",
      "Evaluando modelo para el sujeto #92: v34p\n",
      "\u001b[1m3/3\u001b[0m \u001b[32m━━━━━━━━━━━━━━━━━━━━\u001b[0m\u001b[37m\u001b[0m \u001b[1m3s\u001b[0m 349ms/step\n",
      "Métricas para v34p: {'accuracy': 1.0}\n",
      "\n",
      "Evaluando modelo para el sujeto #93: v35p\n",
      "\u001b[1m2/2\u001b[0m \u001b[32m━━━━━━━━━━━━━━━━━━━━\u001b[0m\u001b[37m\u001b[0m \u001b[1m1s\u001b[0m 691ms/step\n",
      "Métricas para v35p: {'accuracy': 1.0}\n",
      "\n",
      "Evaluando modelo para el sujeto #94: v37p\n",
      "\u001b[1m2/2\u001b[0m \u001b[32m━━━━━━━━━━━━━━━━━━━━\u001b[0m\u001b[37m\u001b[0m \u001b[1m1s\u001b[0m 655ms/step\n",
      "Métricas para v37p: {'accuracy': 1.0}\n",
      "\n",
      "Evaluando modelo para el sujeto #95: v38p\n",
      "\u001b[1m3/3\u001b[0m \u001b[32m━━━━━━━━━━━━━━━━━━━━\u001b[0m\u001b[37m\u001b[0m \u001b[1m1s\u001b[0m 333ms/step\n",
      "Métricas para v38p: {'accuracy': 1.0}\n",
      "\n",
      "Evaluando modelo para el sujeto #96: v39p\n",
      "\u001b[1m3/3\u001b[0m \u001b[32m━━━━━━━━━━━━━━━━━━━━\u001b[0m\u001b[37m\u001b[0m \u001b[1m1s\u001b[0m 330ms/step\n",
      "Métricas para v39p: {'accuracy': 1.0}\n",
      "\n",
      "Evaluando modelo para el sujeto #97: v3p\n",
      "\u001b[1m5/5\u001b[0m \u001b[32m━━━━━━━━━━━━━━━━━━━━\u001b[0m\u001b[37m\u001b[0m \u001b[1m1s\u001b[0m 166ms/step\n",
      "Métricas para v3p: {'accuracy': 1.0}\n",
      "\n",
      "Evaluando modelo para el sujeto #98: v40p\n",
      "\u001b[1m3/3\u001b[0m \u001b[32m━━━━━━━━━━━━━━━━━━━━\u001b[0m\u001b[37m\u001b[0m \u001b[1m1s\u001b[0m 353ms/step\n",
      "Métricas para v40p: {'accuracy': 1.0}\n",
      "\n",
      "Evaluando modelo para el sujeto #99: v41p\n",
      "\u001b[1m2/2\u001b[0m \u001b[32m━━━━━━━━━━━━━━━━━━━━\u001b[0m\u001b[37m\u001b[0m \u001b[1m1s\u001b[0m 664ms/step\n",
      "Métricas para v41p: {'accuracy': 1.0}\n",
      "\n",
      "Evaluando modelo para el sujeto #100: v42p\n",
      "\u001b[1m2/2\u001b[0m \u001b[32m━━━━━━━━━━━━━━━━━━━━\u001b[0m\u001b[37m\u001b[0m \u001b[1m1s\u001b[0m 5ms/step  \n",
      "Métricas para v42p: {'accuracy': 1.0}\n",
      "\n",
      "Evaluando modelo para el sujeto #101: v43p\n",
      "\u001b[1m2/2\u001b[0m \u001b[32m━━━━━━━━━━━━━━━━━━━━\u001b[0m\u001b[37m\u001b[0m \u001b[1m3s\u001b[0m 667ms/step\n",
      "Métricas para v43p: {'accuracy': 1.0}\n",
      "\n",
      "Evaluando modelo para el sujeto #102: v44p\n",
      "\u001b[1m2/2\u001b[0m \u001b[32m━━━━━━━━━━━━━━━━━━━━\u001b[0m\u001b[37m\u001b[0m \u001b[1m1s\u001b[0m 647ms/step\n",
      "Métricas para v44p: {'accuracy': 1.0}\n",
      "\n",
      "Evaluando modelo para el sujeto #103: v45p\n",
      "\u001b[1m2/2\u001b[0m \u001b[32m━━━━━━━━━━━━━━━━━━━━\u001b[0m\u001b[37m\u001b[0m \u001b[1m1s\u001b[0m 651ms/step\n",
      "Métricas para v45p: {'accuracy': 1.0}\n",
      "\n",
      "Evaluando modelo para el sujeto #104: v46p\n",
      "\u001b[1m2/2\u001b[0m \u001b[32m━━━━━━━━━━━━━━━━━━━━\u001b[0m\u001b[37m\u001b[0m \u001b[1m1s\u001b[0m 669ms/step\n",
      "Métricas para v46p: {'accuracy': 0.9459459459459459}\n",
      "\n",
      "Evaluando modelo para el sujeto #105: v47p\n",
      "\u001b[1m2/2\u001b[0m \u001b[32m━━━━━━━━━━━━━━━━━━━━\u001b[0m\u001b[37m\u001b[0m \u001b[1m1s\u001b[0m 650ms/step\n",
      "Métricas para v47p: {'accuracy': 1.0}\n",
      "\n",
      "Evaluando modelo para el sujeto #106: v48p\n",
      "\u001b[1m2/2\u001b[0m \u001b[32m━━━━━━━━━━━━━━━━━━━━\u001b[0m\u001b[37m\u001b[0m \u001b[1m3s\u001b[0m 701ms/step\n",
      "Métricas para v48p: {'accuracy': 1.0}\n",
      "\n",
      "Evaluando modelo para el sujeto #107: v49p\n",
      "\u001b[1m2/2\u001b[0m \u001b[32m━━━━━━━━━━━━━━━━━━━━\u001b[0m\u001b[37m\u001b[0m \u001b[1m1s\u001b[0m 5ms/step  \n",
      "Métricas para v49p: {'accuracy': 1.0}\n",
      "\n",
      "Evaluando modelo para el sujeto #108: v50p\n",
      "\u001b[1m2/2\u001b[0m \u001b[32m━━━━━━━━━━━━━━━━━━━━\u001b[0m\u001b[37m\u001b[0m \u001b[1m3s\u001b[0m 738ms/step\n",
      "Métricas para v50p: {'accuracy': 1.0}\n",
      "\n",
      "Evaluando modelo para el sujeto #109: v51p\n",
      "\u001b[1m1/1\u001b[0m \u001b[32m━━━━━━━━━━━━━━━━━━━━\u001b[0m\u001b[37m\u001b[0m \u001b[1m1s\u001b[0m 629ms/step\n",
      "Métricas para v51p: {'accuracy': 1.0}\n",
      "\n",
      "Evaluando modelo para el sujeto #110: v52p\n",
      "\u001b[1m2/2\u001b[0m \u001b[32m━━━━━━━━━━━━━━━━━━━━\u001b[0m\u001b[37m\u001b[0m \u001b[1m3s\u001b[0m 684ms/step\n",
      "Métricas para v52p: {'accuracy': 1.0}\n",
      "\n",
      "Evaluando modelo para el sujeto #111: v53p\n",
      "\u001b[1m3/3\u001b[0m \u001b[32m━━━━━━━━━━━━━━━━━━━━\u001b[0m\u001b[37m\u001b[0m \u001b[1m1s\u001b[0m 326ms/step\n",
      "Métricas para v53p: {'accuracy': 1.0}\n",
      "\n",
      "Evaluando modelo para el sujeto #112: v54p\n",
      "\u001b[1m3/3\u001b[0m \u001b[32m━━━━━━━━━━━━━━━━━━━━\u001b[0m\u001b[37m\u001b[0m \u001b[1m1s\u001b[0m 334ms/step\n",
      "Métricas para v54p: {'accuracy': 1.0}\n",
      "\n",
      "Evaluando modelo para el sujeto #113: v55p\n",
      "\u001b[1m2/2\u001b[0m \u001b[32m━━━━━━━━━━━━━━━━━━━━\u001b[0m\u001b[37m\u001b[0m \u001b[1m1s\u001b[0m 636ms/step\n",
      "Métricas para v55p: {'accuracy': 1.0}\n",
      "\n",
      "Evaluando modelo para el sujeto #114: v56p\n",
      "\u001b[1m2/2\u001b[0m \u001b[32m━━━━━━━━━━━━━━━━━━━━\u001b[0m\u001b[37m\u001b[0m \u001b[1m1s\u001b[0m 663ms/step\n",
      "Métricas para v56p: {'accuracy': 1.0}\n",
      "\n",
      "Evaluando modelo para el sujeto #115: v57p\n",
      "\u001b[1m2/2\u001b[0m \u001b[32m━━━━━━━━━━━━━━━━━━━━\u001b[0m\u001b[37m\u001b[0m \u001b[1m1s\u001b[0m 661ms/step\n",
      "Métricas para v57p: {'accuracy': 1.0}\n",
      "\n",
      "Evaluando modelo para el sujeto #116: v58p\n",
      "\u001b[1m2/2\u001b[0m \u001b[32m━━━━━━━━━━━━━━━━━━━━\u001b[0m\u001b[37m\u001b[0m \u001b[1m3s\u001b[0m 682ms/step\n",
      "Métricas para v58p: {'accuracy': 1.0}\n",
      "\n",
      "Evaluando modelo para el sujeto #117: v59p\n",
      "\u001b[1m2/2\u001b[0m \u001b[32m━━━━━━━━━━━━━━━━━━━━\u001b[0m\u001b[37m\u001b[0m \u001b[1m1s\u001b[0m 723ms/step\n",
      "Métricas para v59p: {'accuracy': 0.4603174603174603}\n",
      "\n",
      "Evaluando modelo para el sujeto #118: v60p\n",
      "\u001b[1m2/2\u001b[0m \u001b[32m━━━━━━━━━━━━━━━━━━━━\u001b[0m\u001b[37m\u001b[0m \u001b[1m3s\u001b[0m 693ms/step\n",
      "Métricas para v60p: {'accuracy': 0.9795918367346939}\n",
      "\n",
      "Evaluando modelo para el sujeto #119: v6p\n",
      "\u001b[1m3/3\u001b[0m \u001b[32m━━━━━━━━━━━━━━━━━━━━\u001b[0m\u001b[37m\u001b[0m \u001b[1m1s\u001b[0m 330ms/step\n",
      "Métricas para v6p: {'accuracy': 0.9552238805970149}\n",
      "\n",
      "Evaluando modelo para el sujeto #120: v8p\n",
      "\u001b[1m2/2\u001b[0m \u001b[32m━━━━━━━━━━━━━━━━━━━━\u001b[0m\u001b[37m\u001b[0m \u001b[1m4s\u001b[0m 3s/step\n",
      "Métricas para v8p: {'accuracy': 1.0}\n",
      "\n",
      "Resumen de métricas por sujeto:\n",
      "Sujeto v250: {'accuracy': 1.0}\n",
      "Sujeto v254: {'accuracy': 1.0}\n",
      "Sujeto v25p: {'accuracy': 1.0}\n",
      "Sujeto v263: {'accuracy': 1.0}\n",
      "Sujeto v265: {'accuracy': 1.0}\n",
      "Sujeto v270: {'accuracy': 1.0}\n",
      "Sujeto v274: {'accuracy': 1.0}\n",
      "Sujeto v279: {'accuracy': 1.0}\n",
      "Sujeto v27p: {'accuracy': 1.0}\n",
      "Sujeto v284: {'accuracy': 1.0}\n",
      "Sujeto v286: {'accuracy': 1.0}\n",
      "Sujeto v288: {'accuracy': 1.0}\n",
      "Sujeto v28p: {'accuracy': 0.14150943396226415}\n",
      "Sujeto v297: {'accuracy': 0.3076923076923077}\n",
      "Sujeto v298: {'accuracy': 1.0}\n",
      "Sujeto v299: {'accuracy': 1.0}\n",
      "Sujeto v29p: {'accuracy': 1.0}\n",
      "Sujeto v300: {'accuracy': 0.97}\n",
      "Sujeto v302: {'accuracy': 1.0}\n",
      "Sujeto v303: {'accuracy': 1.0}\n",
      "Sujeto v304: {'accuracy': 1.0}\n",
      "Sujeto v305: {'accuracy': 1.0}\n",
      "Sujeto v306: {'accuracy': 1.0}\n",
      "Sujeto v307: {'accuracy': 1.0}\n",
      "Sujeto v308: {'accuracy': 0.15384615384615385}\n",
      "Sujeto v309: {'accuracy': 1.0}\n",
      "Sujeto v30p: {'accuracy': 1.0}\n",
      "Sujeto v310: {'accuracy': 1.0}\n",
      "Sujeto v31p: {'accuracy': 1.0}\n",
      "Sujeto v32p: {'accuracy': 1.0}\n",
      "Sujeto v33p: {'accuracy': 1.0}\n",
      "Sujeto v34p: {'accuracy': 1.0}\n",
      "Sujeto v35p: {'accuracy': 1.0}\n",
      "Sujeto v37p: {'accuracy': 1.0}\n",
      "Sujeto v38p: {'accuracy': 1.0}\n",
      "Sujeto v39p: {'accuracy': 1.0}\n",
      "Sujeto v3p: {'accuracy': 1.0}\n",
      "Sujeto v40p: {'accuracy': 1.0}\n",
      "Sujeto v41p: {'accuracy': 1.0}\n",
      "Sujeto v42p: {'accuracy': 1.0}\n",
      "Sujeto v43p: {'accuracy': 1.0}\n",
      "Sujeto v44p: {'accuracy': 1.0}\n",
      "Sujeto v45p: {'accuracy': 1.0}\n",
      "Sujeto v46p: {'accuracy': 0.9459459459459459}\n",
      "Sujeto v47p: {'accuracy': 1.0}\n",
      "Sujeto v48p: {'accuracy': 1.0}\n",
      "Sujeto v49p: {'accuracy': 1.0}\n",
      "Sujeto v50p: {'accuracy': 1.0}\n",
      "Sujeto v51p: {'accuracy': 1.0}\n",
      "Sujeto v52p: {'accuracy': 1.0}\n",
      "Sujeto v53p: {'accuracy': 1.0}\n",
      "Sujeto v54p: {'accuracy': 1.0}\n",
      "Sujeto v55p: {'accuracy': 1.0}\n",
      "Sujeto v56p: {'accuracy': 1.0}\n",
      "Sujeto v57p: {'accuracy': 1.0}\n",
      "Sujeto v58p: {'accuracy': 1.0}\n",
      "Sujeto v59p: {'accuracy': 0.4603174603174603}\n",
      "Sujeto v60p: {'accuracy': 0.9795918367346939}\n",
      "Sujeto v6p: {'accuracy': 0.9552238805970149}\n",
      "Sujeto v8p: {'accuracy': 1.0}\n"
     ]
    }
   ],
   "source": [
    "results = train_LOSO(cnn_lstm_eegnet, X, y, sbjs, model_args, compile_args, 61, 120, model_name)"
   ]
  },
  {
   "cell_type": "code",
   "execution_count": 6,
   "id": "86bec99c",
   "metadata": {
    "execution": {
     "iopub.execute_input": "2025-04-30T22:27:47.142908Z",
     "iopub.status.busy": "2025-04-30T22:27:47.142683Z",
     "iopub.status.idle": "2025-04-30T22:27:47.148809Z",
     "shell.execute_reply": "2025-04-30T22:27:47.148278Z"
    },
    "papermill": {
     "duration": 0.020964,
     "end_time": "2025-04-30T22:27:47.149772",
     "exception": false,
     "start_time": "2025-04-30T22:27:47.128808",
     "status": "completed"
    },
    "tags": []
   },
   "outputs": [
    {
     "data": {
      "text/plain": [
       "{'v250': {'accuracy': 1.0},\n",
       " 'v254': {'accuracy': 1.0},\n",
       " 'v25p': {'accuracy': 1.0},\n",
       " 'v263': {'accuracy': 1.0},\n",
       " 'v265': {'accuracy': 1.0},\n",
       " 'v270': {'accuracy': 1.0},\n",
       " 'v274': {'accuracy': 1.0},\n",
       " 'v279': {'accuracy': 1.0},\n",
       " 'v27p': {'accuracy': 1.0},\n",
       " 'v284': {'accuracy': 1.0},\n",
       " 'v286': {'accuracy': 1.0},\n",
       " 'v288': {'accuracy': 1.0},\n",
       " 'v28p': {'accuracy': 0.14150943396226415},\n",
       " 'v297': {'accuracy': 0.3076923076923077},\n",
       " 'v298': {'accuracy': 1.0},\n",
       " 'v299': {'accuracy': 1.0},\n",
       " 'v29p': {'accuracy': 1.0},\n",
       " 'v300': {'accuracy': 0.97},\n",
       " 'v302': {'accuracy': 1.0},\n",
       " 'v303': {'accuracy': 1.0},\n",
       " 'v304': {'accuracy': 1.0},\n",
       " 'v305': {'accuracy': 1.0},\n",
       " 'v306': {'accuracy': 1.0},\n",
       " 'v307': {'accuracy': 1.0},\n",
       " 'v308': {'accuracy': 0.15384615384615385},\n",
       " 'v309': {'accuracy': 1.0},\n",
       " 'v30p': {'accuracy': 1.0},\n",
       " 'v310': {'accuracy': 1.0},\n",
       " 'v31p': {'accuracy': 1.0},\n",
       " 'v32p': {'accuracy': 1.0},\n",
       " 'v33p': {'accuracy': 1.0},\n",
       " 'v34p': {'accuracy': 1.0},\n",
       " 'v35p': {'accuracy': 1.0},\n",
       " 'v37p': {'accuracy': 1.0},\n",
       " 'v38p': {'accuracy': 1.0},\n",
       " 'v39p': {'accuracy': 1.0},\n",
       " 'v3p': {'accuracy': 1.0},\n",
       " 'v40p': {'accuracy': 1.0},\n",
       " 'v41p': {'accuracy': 1.0},\n",
       " 'v42p': {'accuracy': 1.0},\n",
       " 'v43p': {'accuracy': 1.0},\n",
       " 'v44p': {'accuracy': 1.0},\n",
       " 'v45p': {'accuracy': 1.0},\n",
       " 'v46p': {'accuracy': 0.9459459459459459},\n",
       " 'v47p': {'accuracy': 1.0},\n",
       " 'v48p': {'accuracy': 1.0},\n",
       " 'v49p': {'accuracy': 1.0},\n",
       " 'v50p': {'accuracy': 1.0},\n",
       " 'v51p': {'accuracy': 1.0},\n",
       " 'v52p': {'accuracy': 1.0},\n",
       " 'v53p': {'accuracy': 1.0},\n",
       " 'v54p': {'accuracy': 1.0},\n",
       " 'v55p': {'accuracy': 1.0},\n",
       " 'v56p': {'accuracy': 1.0},\n",
       " 'v57p': {'accuracy': 1.0},\n",
       " 'v58p': {'accuracy': 1.0},\n",
       " 'v59p': {'accuracy': 0.4603174603174603},\n",
       " 'v60p': {'accuracy': 0.9795918367346939},\n",
       " 'v6p': {'accuracy': 0.9552238805970149},\n",
       " 'v8p': {'accuracy': 1.0}}"
      ]
     },
     "execution_count": 6,
     "metadata": {},
     "output_type": "execute_result"
    }
   ],
   "source": [
    "results"
   ]
  },
  {
   "cell_type": "code",
   "execution_count": 7,
   "id": "67179eb0",
   "metadata": {
    "execution": {
     "iopub.execute_input": "2025-04-30T22:27:47.174999Z",
     "iopub.status.busy": "2025-04-30T22:27:47.174800Z",
     "iopub.status.idle": "2025-04-30T22:27:47.178366Z",
     "shell.execute_reply": "2025-04-30T22:27:47.177848Z"
    },
    "papermill": {
     "duration": 0.017261,
     "end_time": "2025-04-30T22:27:47.179348",
     "exception": false,
     "start_time": "2025-04-30T22:27:47.162087",
     "status": "completed"
    },
    "tags": []
   },
   "outputs": [],
   "source": [
    "import pickle\n",
    "\n",
    "with open(f'results_LOSO_{model_name}.pkl', 'wb') as f:\n",
    "    pickle.dump(results, f)"
   ]
  }
 ],
 "metadata": {
  "kaggle": {
   "accelerator": "nvidiaTeslaT4",
   "dataSources": [
    {
     "datasetId": 6567861,
     "sourceId": 10680378,
     "sourceType": "datasetVersion"
    }
   ],
   "dockerImageVersionId": 31011,
   "isGpuEnabled": true,
   "isInternetEnabled": true,
   "language": "python",
   "sourceType": "notebook"
  },
  "kernelspec": {
   "display_name": "Python 3",
   "language": "python",
   "name": "python3"
  },
  "language_info": {
   "codemirror_mode": {
    "name": "ipython",
    "version": 3
   },
   "file_extension": ".py",
   "mimetype": "text/x-python",
   "name": "python",
   "nbconvert_exporter": "python",
   "pygments_lexer": "ipython3",
   "version": "3.11.11"
  },
  "papermill": {
   "default_parameters": {},
   "duration": 8654.695275,
   "end_time": "2025-04-30T22:27:50.216513",
   "environment_variables": {},
   "exception": null,
   "input_path": "__notebook__.ipynb",
   "output_path": "__notebook__.ipynb",
   "parameters": {},
   "start_time": "2025-04-30T20:03:35.521238",
   "version": "2.6.0"
  }
 },
 "nbformat": 4,
 "nbformat_minor": 5
}
